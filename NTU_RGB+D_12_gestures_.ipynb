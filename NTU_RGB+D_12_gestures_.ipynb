{
  "nbformat": 4,
  "nbformat_minor": 0,
  "metadata": {
    "colab": {
      "name": "NTU RGB+D - 12 gestures .ipynb",
      "provenance": [],
      "collapsed_sections": [],
      "mount_file_id": "1qgdKQgT_EoLhlqNaEmurwtOWPQ4cXz8l",
      "authorship_tag": "ABX9TyObUvRI7WSFdhSMGUVAU02T",
      "include_colab_link": true
    },
    "kernelspec": {
      "name": "python3",
      "display_name": "Python 3"
    },
    "accelerator": "GPU"
  },
  "cells": [
    {
      "cell_type": "markdown",
      "metadata": {
        "id": "view-in-github",
        "colab_type": "text"
      },
      "source": [
        "<a href=\"https://colab.research.google.com/github/juliaschubertpeixoto/TCC/blob/main/NTU_RGB%2BD_12_gestures_.ipynb\" target=\"_parent\"><img src=\"https://colab.research.google.com/assets/colab-badge.svg\" alt=\"Open In Colab\"/></a>"
      ]
    },
    {
      "cell_type": "markdown",
      "metadata": {
        "id": "0Gt7Z3lxGpAH"
      },
      "source": [
        "#Libraries\r\n"
      ]
    },
    {
      "cell_type": "code",
      "metadata": {
        "id": "zlg2-8759jcV"
      },
      "source": [
        "from matplotlib import pyplot as plt\r\n",
        "import numpy as np\r\n",
        "import os\r\n",
        "import sklearn\r\n",
        "from sklearn.model_selection import train_test_split\r\n",
        "from sklearn.preprocessing import StandardScaler, MaxAbsScaler, MinMaxScaler\r\n",
        "from sklearn.utils import shuffle\r\n",
        "import tensorflow as tf \r\n",
        "from tensorflow.keras import datasets, layers, models"
      ],
      "execution_count": null,
      "outputs": []
    },
    {
      "cell_type": "markdown",
      "metadata": {
        "id": "NWqXpN3DPrUB"
      },
      "source": [
        "#Data Processing"
      ]
    },
    {
      "cell_type": "markdown",
      "metadata": {
        "id": "SyMUE8WzGo6U"
      },
      "source": [
        "##Load Data"
      ]
    },
    {
      "cell_type": "code",
      "metadata": {
        "colab": {
          "base_uri": "https://localhost:8080/"
        },
        "id": "7iKD6-EUHYbM",
        "outputId": "575d8fc7-9600-4d89-e371-2e0f90f2611d"
      },
      "source": [
        "path = '/content/drive/MyDrive/[TCC] Final Version/NTU-RGB-D Dataset/'\r\n",
        "os.chdir(path)\r\n",
        "X_train = np.load('train_data.npy' ).astype(np.float32)\r\n",
        "y_train = np.load('train_tag.npy' ).astype(np.int32)\r\n",
        "print(\"Data imported successfuly!\")"
      ],
      "execution_count": null,
      "outputs": [
        {
          "output_type": "stream",
          "text": [
            "Data imported successfuly!\n"
          ],
          "name": "stdout"
        }
      ]
    },
    {
      "cell_type": "markdown",
      "metadata": {
        "id": "9UvKV5PZJ7lM"
      },
      "source": [
        "##Split Data"
      ]
    },
    {
      "cell_type": "code",
      "metadata": {
        "colab": {
          "base_uri": "https://localhost:8080/"
        },
        "id": "8zMZdGkGJs77",
        "outputId": "f57cc5f0-5f00-41e5-b8f9-18ced7c561e0"
      },
      "source": [
        "X_train, X_0, y_train, y_0 = train_test_split(X_train, y_train, test_size=0.33, random_state=42)\r\n",
        "X_val, X_test, y_val, y_test = train_test_split(X_0, y_0, test_size=0.50, random_state=42)\r\n",
        "print(\"Data splited successfuly!\")\r\n",
        "print(\" \")\r\n",
        "print(\"Number of samples on training set:\", y_train.shape[0])\r\n",
        "print(\"Number of samples on validation set:\", y_val.shape[0])\r\n",
        "print(\"Number of samples on test set:\", y_test.shape[0] )"
      ],
      "execution_count": null,
      "outputs": [
        {
          "output_type": "stream",
          "text": [
            "Data splited successfuly!\n",
            " \n",
            "Number of samples on training set: 7554\n",
            "Number of samples on validation set: 1860\n",
            "Number of samples on test set: 1861\n"
          ],
          "name": "stdout"
        }
      ]
    },
    {
      "cell_type": "markdown",
      "metadata": {
        "id": "mRxlQO96Kkri"
      },
      "source": [
        "##Normalize data"
      ]
    },
    {
      "cell_type": "code",
      "metadata": {
        "colab": {
          "base_uri": "https://localhost:8080/"
        },
        "id": "zdOLmrK4KOF0",
        "outputId": "59ab0503-42f5-4a3f-899d-29a733eb3b83"
      },
      "source": [
        "new_train_data = tf.reshape(X_train, (-1,299*80)) \r\n",
        "n = MaxAbsScaler() \r\n",
        "n.fit(new_train_data)\r\n",
        "newN = n.transform(new_train_data)\r\n",
        "X_train = tf.reshape(newN, (-1,299,80))\r\n",
        "print(\"Data normalized successfuly!\")"
      ],
      "execution_count": null,
      "outputs": [
        {
          "output_type": "stream",
          "text": [
            "Data normalized successfuly!\n"
          ],
          "name": "stdout"
        }
      ]
    },
    {
      "cell_type": "code",
      "metadata": {
        "colab": {
          "base_uri": "https://localhost:8080/"
        },
        "id": "Dg4owTkPM7Ts",
        "outputId": "4ccde44c-5126-46fa-8d12-0b36dea3cb95"
      },
      "source": [
        "new_train_data = tf.reshape(X_val, (-1,299*80)) \r\n",
        "n = MaxAbsScaler() \r\n",
        "n.fit(new_train_data)\r\n",
        "newN = n.transform(new_train_data)\r\n",
        "X_val = tf.reshape(newN, (-1,299,80))\r\n",
        "print(\"Data normalized successfuly!\")"
      ],
      "execution_count": null,
      "outputs": [
        {
          "output_type": "stream",
          "text": [
            "Data normalized successfuly!\n"
          ],
          "name": "stdout"
        }
      ]
    },
    {
      "cell_type": "code",
      "metadata": {
        "colab": {
          "base_uri": "https://localhost:8080/"
        },
        "id": "gAGw2I9jVDON",
        "outputId": "05251d68-5c02-4b55-a145-b7d5f9c4bf65"
      },
      "source": [
        "new_train_data = tf.reshape(X_test, (-1,299*80)) \r\n",
        "n = MaxAbsScaler() \r\n",
        "n.fit(new_train_data)\r\n",
        "newN = n.transform(new_train_data)\r\n",
        "X_test = tf.reshape(newN, (-1,299,80))\r\n",
        "print(\"Data normalized successfuly!\")"
      ],
      "execution_count": null,
      "outputs": [
        {
          "output_type": "stream",
          "text": [
            "Data normalized successfuly!\n"
          ],
          "name": "stdout"
        }
      ]
    },
    {
      "cell_type": "markdown",
      "metadata": {
        "id": "G_mqdMQVRDfz"
      },
      "source": [
        "##Reshape Data"
      ]
    },
    {
      "cell_type": "code",
      "metadata": {
        "colab": {
          "base_uri": "https://localhost:8080/"
        },
        "id": "8wSNw5ToRC_N",
        "outputId": "73734c47-4e03-4bcb-cd4f-571c387e2bfe"
      },
      "source": [
        "train_data_conv = tf.reshape(X_train, (-1,299,80,1))\r\n",
        "val_data_conv = tf.reshape(X_val, (-1,299,80,1))\r\n",
        "test_data_conv = tf.reshape(X_test, (-1,299,80,1))\r\n",
        "print(\"Data reshaped successfuly!\")"
      ],
      "execution_count": null,
      "outputs": [
        {
          "output_type": "stream",
          "text": [
            "Data reshaped successfuly!\n"
          ],
          "name": "stdout"
        }
      ]
    },
    {
      "cell_type": "markdown",
      "metadata": {
        "id": "iv-KT3ELP70A"
      },
      "source": [
        "#Convolutional Neural Network"
      ]
    },
    {
      "cell_type": "markdown",
      "metadata": {
        "id": "dXXegdl2P0kh"
      },
      "source": [
        "##Training"
      ]
    },
    {
      "cell_type": "markdown",
      "metadata": {
        "id": "FF4vLXFFQsmd"
      },
      "source": [
        "*Proposed Model*"
      ]
    },
    {
      "cell_type": "code",
      "metadata": {
        "colab": {
          "base_uri": "https://localhost:8080/"
        },
        "id": "T_RD0YRfNuAL",
        "outputId": "38707e15-a367-4392-fd7f-1707017c6dac"
      },
      "source": [
        "model = models.Sequential()\r\n",
        "model.add(layers.Input(shape=(299,80,1)))\r\n",
        "model.add(layers.Conv2D(16, (3, 3), activation='relu', padding='same'))\r\n",
        "model.add(layers.MaxPooling2D((3, 3), strides=3))\r\n",
        "model.add(layers.Conv2D(32, (3, 3), activation='relu', padding='same'))\r\n",
        "model.add(layers.MaxPooling2D((3, 3), strides=3))\r\n",
        "model.add(layers.Conv2D(64, (3, 3), activation='relu', padding='same'))\r\n",
        "model.add(layers.MaxPooling2D((2,2), strides=2))\r\n",
        "model.add(layers.Flatten())\r\n",
        "model.add(layers.Dense(units=7104, activation='relu'))\r\n",
        "model.add(layers.Dropout(0.4))\r\n",
        "model.add(layers.Dense(units=12, activation='softmax'))\r\n",
        "model.summary()\r\n",
        "\r\n",
        "model.compile(optimizer='Adam',\r\n",
        "              loss='sparse_categorical_crossentropy',\r\n",
        "              metrics=['accuracy'])"
      ],
      "execution_count": null,
      "outputs": [
        {
          "output_type": "stream",
          "text": [
            "Model: \"sequential\"\n",
            "_________________________________________________________________\n",
            "Layer (type)                 Output Shape              Param #   \n",
            "=================================================================\n",
            "conv2d (Conv2D)              (None, 299, 80, 16)       160       \n",
            "_________________________________________________________________\n",
            "max_pooling2d (MaxPooling2D) (None, 99, 26, 16)        0         \n",
            "_________________________________________________________________\n",
            "conv2d_1 (Conv2D)            (None, 99, 26, 32)        4640      \n",
            "_________________________________________________________________\n",
            "max_pooling2d_1 (MaxPooling2 (None, 33, 8, 32)         0         \n",
            "_________________________________________________________________\n",
            "conv2d_2 (Conv2D)            (None, 33, 8, 64)         18496     \n",
            "_________________________________________________________________\n",
            "max_pooling2d_2 (MaxPooling2 (None, 16, 4, 64)         0         \n",
            "_________________________________________________________________\n",
            "flatten (Flatten)            (None, 4096)              0         \n",
            "_________________________________________________________________\n",
            "dense (Dense)                (None, 7104)              29105088  \n",
            "_________________________________________________________________\n",
            "dropout (Dropout)            (None, 7104)              0         \n",
            "_________________________________________________________________\n",
            "dense_1 (Dense)              (None, 12)                85260     \n",
            "=================================================================\n",
            "Total params: 29,213,644\n",
            "Trainable params: 29,213,644\n",
            "Non-trainable params: 0\n",
            "_________________________________________________________________\n"
          ],
          "name": "stdout"
        }
      ]
    },
    {
      "cell_type": "markdown",
      "metadata": {
        "id": "iPBdpSwjQ8Dw"
      },
      "source": [
        "*Training*"
      ]
    },
    {
      "cell_type": "code",
      "metadata": {
        "colab": {
          "base_uri": "https://localhost:8080/"
        },
        "id": "iST1d_JzQ7C-",
        "outputId": "233d4407-75d1-4e8c-eb96-c6f5e346b704"
      },
      "source": [
        "history = model.fit(train_data_conv, y_train,\r\n",
        "          validation_data=(val_data_conv, y_val),\r\n",
        "          batch_size=10,\r\n",
        "          epochs=30, shuffle=True)"
      ],
      "execution_count": null,
      "outputs": [
        {
          "output_type": "stream",
          "text": [
            "Epoch 1/30\n",
            "756/756 [==============================] - 16s 12ms/step - loss: 2.5185 - accuracy: 0.0847 - val_loss: 2.4871 - val_accuracy: 0.0876\n",
            "Epoch 2/30\n",
            "756/756 [==============================] - 8s 11ms/step - loss: 2.4304 - accuracy: 0.1132 - val_loss: 1.7792 - val_accuracy: 0.3613\n",
            "Epoch 3/30\n",
            "756/756 [==============================] - 8s 11ms/step - loss: 1.4465 - accuracy: 0.5031 - val_loss: 1.2067 - val_accuracy: 0.5866\n",
            "Epoch 4/30\n",
            "756/756 [==============================] - 9s 11ms/step - loss: 1.1277 - accuracy: 0.6165 - val_loss: 1.0966 - val_accuracy: 0.6285\n",
            "Epoch 5/30\n",
            "756/756 [==============================] - 8s 11ms/step - loss: 1.0410 - accuracy: 0.6365 - val_loss: 1.0676 - val_accuracy: 0.6398\n",
            "Epoch 6/30\n",
            "756/756 [==============================] - 9s 11ms/step - loss: 0.9556 - accuracy: 0.6594 - val_loss: 1.0490 - val_accuracy: 0.6452\n",
            "Epoch 7/30\n",
            "756/756 [==============================] - 9s 11ms/step - loss: 0.8935 - accuracy: 0.6793 - val_loss: 1.0973 - val_accuracy: 0.6231\n",
            "Epoch 8/30\n",
            "756/756 [==============================] - 9s 11ms/step - loss: 0.8846 - accuracy: 0.6873 - val_loss: 1.0024 - val_accuracy: 0.6758\n",
            "Epoch 9/30\n",
            "756/756 [==============================] - 9s 12ms/step - loss: 0.8327 - accuracy: 0.7007 - val_loss: 1.0527 - val_accuracy: 0.6720\n",
            "Epoch 10/30\n",
            "756/756 [==============================] - 9s 11ms/step - loss: 0.8043 - accuracy: 0.7102 - val_loss: 0.9505 - val_accuracy: 0.6968\n",
            "Epoch 11/30\n",
            "756/756 [==============================] - 9s 11ms/step - loss: 0.7539 - accuracy: 0.7300 - val_loss: 1.0069 - val_accuracy: 0.6720\n",
            "Epoch 12/30\n",
            "756/756 [==============================] - 9s 11ms/step - loss: 0.7466 - accuracy: 0.7325 - val_loss: 1.0429 - val_accuracy: 0.6828\n",
            "Epoch 13/30\n",
            "756/756 [==============================] - 9s 11ms/step - loss: 0.7258 - accuracy: 0.7437 - val_loss: 1.2132 - val_accuracy: 0.6559\n",
            "Epoch 14/30\n",
            "756/756 [==============================] - 9s 11ms/step - loss: 0.6762 - accuracy: 0.7586 - val_loss: 0.9607 - val_accuracy: 0.6914\n",
            "Epoch 15/30\n",
            "756/756 [==============================] - 9s 12ms/step - loss: 0.6554 - accuracy: 0.7631 - val_loss: 1.0820 - val_accuracy: 0.6941\n",
            "Epoch 16/30\n",
            "756/756 [==============================] - 9s 12ms/step - loss: 0.6150 - accuracy: 0.7790 - val_loss: 1.1403 - val_accuracy: 0.6823\n",
            "Epoch 17/30\n",
            "756/756 [==============================] - 9s 11ms/step - loss: 0.6016 - accuracy: 0.7821 - val_loss: 1.1930 - val_accuracy: 0.6677\n",
            "Epoch 18/30\n",
            "756/756 [==============================] - 9s 11ms/step - loss: 0.5704 - accuracy: 0.7937 - val_loss: 1.0823 - val_accuracy: 0.6914\n",
            "Epoch 19/30\n",
            "756/756 [==============================] - 9s 12ms/step - loss: 0.5698 - accuracy: 0.7986 - val_loss: 1.0667 - val_accuracy: 0.6941\n",
            "Epoch 20/30\n",
            "756/756 [==============================] - 9s 12ms/step - loss: 0.5190 - accuracy: 0.8148 - val_loss: 1.1888 - val_accuracy: 0.6806\n",
            "Epoch 21/30\n",
            "756/756 [==============================] - 9s 12ms/step - loss: 0.5095 - accuracy: 0.8115 - val_loss: 1.1838 - val_accuracy: 0.6876\n",
            "Epoch 22/30\n",
            "756/756 [==============================] - 9s 11ms/step - loss: 0.5020 - accuracy: 0.8220 - val_loss: 1.5291 - val_accuracy: 0.6624\n",
            "Epoch 23/30\n",
            "756/756 [==============================] - 9s 12ms/step - loss: 0.4730 - accuracy: 0.8361 - val_loss: 1.1729 - val_accuracy: 0.6995\n",
            "Epoch 24/30\n",
            "756/756 [==============================] - 9s 11ms/step - loss: 0.4886 - accuracy: 0.8307 - val_loss: 1.3777 - val_accuracy: 0.6806\n",
            "Epoch 25/30\n",
            "756/756 [==============================] - 9s 11ms/step - loss: 0.4406 - accuracy: 0.8391 - val_loss: 1.3651 - val_accuracy: 0.6844\n",
            "Epoch 26/30\n",
            "756/756 [==============================] - 9s 12ms/step - loss: 0.4363 - accuracy: 0.8491 - val_loss: 1.5457 - val_accuracy: 0.6645\n",
            "Epoch 27/30\n",
            "756/756 [==============================] - 9s 11ms/step - loss: 0.3981 - accuracy: 0.8656 - val_loss: 1.4115 - val_accuracy: 0.6925\n",
            "Epoch 28/30\n",
            "756/756 [==============================] - 9s 12ms/step - loss: 0.3848 - accuracy: 0.8626 - val_loss: 1.4523 - val_accuracy: 0.6919\n",
            "Epoch 29/30\n",
            "756/756 [==============================] - 9s 12ms/step - loss: 0.3658 - accuracy: 0.8714 - val_loss: 1.5823 - val_accuracy: 0.6559\n",
            "Epoch 30/30\n",
            "756/756 [==============================] - 9s 12ms/step - loss: 0.3707 - accuracy: 0.8752 - val_loss: 1.5034 - val_accuracy: 0.6962\n"
          ],
          "name": "stdout"
        }
      ]
    },
    {
      "cell_type": "markdown",
      "metadata": {
        "id": "rNy2QplIYRUl"
      },
      "source": [
        "###Analysis"
      ]
    },
    {
      "cell_type": "code",
      "metadata": {
        "colab": {
          "base_uri": "https://localhost:8080/",
          "height": 295
        },
        "id": "hN2s_EBeV5Zi",
        "outputId": "1d79bdd9-f898-4f48-ffd6-11f5f3193dd0"
      },
      "source": [
        "plt.plot(history.history[\"loss\"])\r\n",
        "plt.plot(history.history[\"val_loss\"])\r\n",
        "plt.title(\"model loss\")\r\n",
        "plt.ylabel(\"loss\")\r\n",
        "plt.xlabel(\"epoch\")\r\n",
        "plt.legend([\"train\", \"test\"], loc=\"upper left\")\r\n",
        "plt.show()"
      ],
      "execution_count": null,
      "outputs": [
        {
          "output_type": "display_data",
          "data": {
            "image/png": "[encoded data removed]",
            "text/plain": [
              "<Figure size 432x288 with 1 Axes>"
            ]
          },
          "metadata": {
            "tags": [],
            "needs_background": "light"
          }
        }
      ]
    },
    {
      "cell_type": "code",
      "metadata": {
        "colab": {
          "base_uri": "https://localhost:8080/",
          "height": 295
        },
        "id": "Mhfy-MWmXb-P",
        "outputId": "8caceb87-9ade-402d-efb8-036976b1f2eb"
      },
      "source": [
        "plt.plot(history.history[\"accuracy\"])\r\n",
        "plt.plot(history.history[\"val_accuracy\"])\r\n",
        "plt.title(\"model accuracy\")\r\n",
        "plt.ylabel(\"accuracy\")\r\n",
        "plt.xlabel(\"epoch\")\r\n",
        "plt.legend([\"train\", \"test\"], loc=\"upper left\")\r\n",
        "plt.show()"
      ],
      "execution_count": null,
      "outputs": [
        {
          "output_type": "display_data",
          "data": {
            "image/png": "[encoded data removed]",
            "text/plain": [
              "<Figure size 432x288 with 1 Axes>"
            ]
          },
          "metadata": {
            "tags": [],
            "needs_background": "light"
          }
        }
      ]
    },
    {
      "cell_type": "markdown",
      "metadata": {
        "id": "6y0t0T8QYcyx"
      },
      "source": [
        "###Testing"
      ]
    },
    {
      "cell_type": "code",
      "metadata": {
        "colab": {
          "base_uri": "https://localhost:8080/"
        },
        "id": "xMxoIalGYd2f",
        "outputId": "9be72322-b3d2-489e-8154-dc5d75ed8e0d"
      },
      "source": [
        "y_pred = model.predict(test_data_conv)\r\n",
        "new_pred = np.zeros(y_pred.shape[0])\r\n",
        "for i in range(y_pred.shape[0]):\r\n",
        "  new_pred[i] = np.argmax(y_pred[i])\r\n",
        "print(\"Testing Accuracy: \", sklearn.metrics.accuracy_score(y_true=y_test, y_pred=new_pred))"
      ],
      "execution_count": null,
      "outputs": [
        {
          "output_type": "stream",
          "text": [
            "Testing Accuracy:  0.6861902203116604\n"
          ],
          "name": "stdout"
        }
      ]
    },
    {
      "cell_type": "markdown",
      "metadata": {
        "id": "ikBt7PRX-mkZ"
      },
      "source": [
        "#Recurrent Neural Network"
      ]
    },
    {
      "cell_type": "markdown",
      "metadata": {
        "id": "ri8J9JIYBZSj"
      },
      "source": [
        "##Training"
      ]
    },
    {
      "cell_type": "markdown",
      "metadata": {
        "id": "druHNH_v_3O7"
      },
      "source": [
        "*Model*"
      ]
    },
    {
      "cell_type": "code",
      "metadata": {
        "colab": {
          "base_uri": "https://localhost:8080/"
        },
        "id": "G4CdgzDe-mAC",
        "outputId": "0fc9c5b4-b8fe-4043-ab34-f31b452c9838"
      },
      "source": [
        "model = tf.keras.Sequential([\r\n",
        "tf.keras.layers.InputLayer(input_shape=(299,80)),   \r\n",
        "tf.keras.layers.LSTM(128, return_sequences=True),\r\n",
        "tf.keras.layers.LSTM(128, dropout=0.1),\r\n",
        "tf.keras.layers.Dense(12, activation='softmax')\r\n",
        "])\r\n",
        "\r\n",
        "model.compile(optimizer = 'RMSProp',\r\n",
        "              loss = 'sparse_categorical_crossentropy',\r\n",
        "              metrics=['accuracy'])\r\n",
        "\r\n",
        "model.summary()"
      ],
      "execution_count": null,
      "outputs": [
        {
          "output_type": "stream",
          "text": [
            "Model: \"sequential_1\"\n",
            "_________________________________________________________________\n",
            "Layer (type)                 Output Shape              Param #   \n",
            "=================================================================\n",
            "lstm (LSTM)                  (None, 299, 128)          107008    \n",
            "_________________________________________________________________\n",
            "lstm_1 (LSTM)                (None, 128)               131584    \n",
            "_________________________________________________________________\n",
            "dense_2 (Dense)              (None, 12)                1548      \n",
            "=================================================================\n",
            "Total params: 240,140\n",
            "Trainable params: 240,140\n",
            "Non-trainable params: 0\n",
            "_________________________________________________________________\n"
          ],
          "name": "stdout"
        }
      ]
    },
    {
      "cell_type": "markdown",
      "metadata": {
        "id": "Om6KPZGFAAOm"
      },
      "source": [
        "*Training*"
      ]
    },
    {
      "cell_type": "code",
      "metadata": {
        "colab": {
          "base_uri": "https://localhost:8080/"
        },
        "id": "Gg95nAT-__YR",
        "outputId": "abf4308c-5780-4c0b-a66b-e5d767f7d87a"
      },
      "source": [
        "history = model.fit(X_train, y_train,\r\n",
        "          validation_data=(X_val, y_val),\r\n",
        "          batch_size=10,\r\n",
        "          epochs=30, shuffle=True)"
      ],
      "execution_count": null,
      "outputs": [
        {
          "output_type": "stream",
          "text": [
            "Epoch 1/30\n",
            "756/756 [==============================] - 23s 27ms/step - loss: 2.2833 - accuracy: 0.1934 - val_loss: 1.9347 - val_accuracy: 0.3016\n",
            "Epoch 2/30\n",
            "756/756 [==============================] - 19s 25ms/step - loss: 1.8798 - accuracy: 0.3304 - val_loss: 1.7566 - val_accuracy: 0.4274\n",
            "Epoch 3/30\n",
            "756/756 [==============================] - 19s 26ms/step - loss: 1.7875 - accuracy: 0.3854 - val_loss: 1.5089 - val_accuracy: 0.4984\n",
            "Epoch 4/30\n",
            "756/756 [==============================] - 19s 25ms/step - loss: 1.5632 - accuracy: 0.4782 - val_loss: 1.4105 - val_accuracy: 0.4962\n",
            "Epoch 5/30\n",
            "756/756 [==============================] - 19s 25ms/step - loss: 1.3953 - accuracy: 0.5110 - val_loss: 1.2073 - val_accuracy: 0.5688\n",
            "Epoch 6/30\n",
            "756/756 [==============================] - 19s 25ms/step - loss: 1.3032 - accuracy: 0.5449 - val_loss: 1.3188 - val_accuracy: 0.5274\n",
            "Epoch 7/30\n",
            "756/756 [==============================] - 19s 25ms/step - loss: 1.2529 - accuracy: 0.5641 - val_loss: 1.3777 - val_accuracy: 0.5339\n",
            "Epoch 8/30\n",
            "756/756 [==============================] - 19s 25ms/step - loss: 1.1952 - accuracy: 0.5837 - val_loss: 1.2531 - val_accuracy: 0.5898\n",
            "Epoch 9/30\n",
            "756/756 [==============================] - 19s 25ms/step - loss: 1.1370 - accuracy: 0.6039 - val_loss: 1.1865 - val_accuracy: 0.5919\n",
            "Epoch 10/30\n",
            "756/756 [==============================] - 19s 26ms/step - loss: 1.1228 - accuracy: 0.6133 - val_loss: 1.2113 - val_accuracy: 0.6005\n",
            "Epoch 11/30\n",
            "756/756 [==============================] - 19s 25ms/step - loss: 1.1224 - accuracy: 0.6084 - val_loss: 1.1492 - val_accuracy: 0.6333\n",
            "Epoch 12/30\n",
            "756/756 [==============================] - 19s 26ms/step - loss: 1.0740 - accuracy: 0.6238 - val_loss: 1.0646 - val_accuracy: 0.6301\n",
            "Epoch 13/30\n",
            "756/756 [==============================] - 19s 26ms/step - loss: 1.0232 - accuracy: 0.6509 - val_loss: 1.3685 - val_accuracy: 0.5559\n",
            "Epoch 14/30\n",
            "756/756 [==============================] - 19s 26ms/step - loss: 0.9604 - accuracy: 0.6671 - val_loss: 1.1549 - val_accuracy: 0.6038\n",
            "Epoch 15/30\n",
            "756/756 [==============================] - 20s 26ms/step - loss: 0.9103 - accuracy: 0.6909 - val_loss: 1.0967 - val_accuracy: 0.6392\n",
            "Epoch 16/30\n",
            "756/756 [==============================] - 20s 26ms/step - loss: 0.9187 - accuracy: 0.6834 - val_loss: 1.1829 - val_accuracy: 0.6145\n",
            "Epoch 17/30\n",
            "756/756 [==============================] - 19s 26ms/step - loss: 0.8882 - accuracy: 0.6838 - val_loss: 0.9782 - val_accuracy: 0.6720\n",
            "Epoch 18/30\n",
            "756/756 [==============================] - 19s 26ms/step - loss: 0.8712 - accuracy: 0.6937 - val_loss: 1.0651 - val_accuracy: 0.6457\n",
            "Epoch 19/30\n",
            "756/756 [==============================] - 19s 25ms/step - loss: 0.8827 - accuracy: 0.6981 - val_loss: 1.1370 - val_accuracy: 0.6312\n",
            "Epoch 20/30\n",
            "756/756 [==============================] - 19s 26ms/step - loss: 0.8531 - accuracy: 0.7024 - val_loss: 1.2107 - val_accuracy: 0.6220\n",
            "Epoch 21/30\n",
            "756/756 [==============================] - 19s 26ms/step - loss: 0.8039 - accuracy: 0.7193 - val_loss: 1.0259 - val_accuracy: 0.6688\n",
            "Epoch 22/30\n",
            "756/756 [==============================] - 19s 25ms/step - loss: 0.7939 - accuracy: 0.7237 - val_loss: 1.0139 - val_accuracy: 0.6704\n",
            "Epoch 23/30\n",
            "756/756 [==============================] - 19s 26ms/step - loss: 0.7833 - accuracy: 0.7233 - val_loss: 0.9985 - val_accuracy: 0.6828\n",
            "Epoch 24/30\n",
            "756/756 [==============================] - 19s 26ms/step - loss: 0.7613 - accuracy: 0.7370 - val_loss: 1.0671 - val_accuracy: 0.6403\n",
            "Epoch 25/30\n",
            "756/756 [==============================] - 19s 25ms/step - loss: 0.7432 - accuracy: 0.7418 - val_loss: 1.0849 - val_accuracy: 0.6425\n",
            "Epoch 26/30\n",
            "756/756 [==============================] - 19s 26ms/step - loss: 0.7516 - accuracy: 0.7365 - val_loss: 1.1044 - val_accuracy: 0.6597\n",
            "Epoch 27/30\n",
            "756/756 [==============================] - 19s 26ms/step - loss: 0.7341 - accuracy: 0.7366 - val_loss: 1.1128 - val_accuracy: 0.6457\n",
            "Epoch 28/30\n",
            "756/756 [==============================] - 19s 26ms/step - loss: 0.7337 - accuracy: 0.7449 - val_loss: 1.1110 - val_accuracy: 0.6538\n",
            "Epoch 29/30\n",
            "756/756 [==============================] - 19s 26ms/step - loss: 0.7150 - accuracy: 0.7482 - val_loss: 1.0187 - val_accuracy: 0.6806\n",
            "Epoch 30/30\n",
            "756/756 [==============================] - 19s 26ms/step - loss: 0.6743 - accuracy: 0.7633 - val_loss: 1.0413 - val_accuracy: 0.6672\n"
          ],
          "name": "stdout"
        }
      ]
    },
    {
      "cell_type": "markdown",
      "metadata": {
        "id": "kqeb4Ln_A6jy"
      },
      "source": [
        "###Analysis"
      ]
    },
    {
      "cell_type": "code",
      "metadata": {
        "colab": {
          "base_uri": "https://localhost:8080/",
          "height": 295
        },
        "id": "7Ude2W-OA4JD",
        "outputId": "27fb03e7-9167-4f95-aa16-d443579baded"
      },
      "source": [
        "plt.plot(history.history[\"loss\"])\r\n",
        "plt.plot(history.history[\"val_loss\"])\r\n",
        "plt.title(\"model loss\")\r\n",
        "plt.ylabel(\"loss\")\r\n",
        "plt.xlabel(\"epoch\")\r\n",
        "plt.legend([\"train\", \"test\"], loc=\"upper left\")\r\n",
        "plt.show()"
      ],
      "execution_count": null,
      "outputs": [
        {
          "output_type": "display_data",
          "data": {
            "image/png": "[encoded data removed]",
            "text/plain": [
              "<Figure size 432x288 with 1 Axes>"
            ]
          },
          "metadata": {
            "tags": [],
            "needs_background": "light"
          }
        }
      ]
    },
    {
      "cell_type": "code",
      "metadata": {
        "colab": {
          "base_uri": "https://localhost:8080/",
          "height": 295
        },
        "id": "tl1sxVEiAuXy",
        "outputId": "b956b4c9-8633-4195-9a23-4934c1b64e49"
      },
      "source": [
        "plt.plot(history.history[\"accuracy\"])\r\n",
        "plt.plot(history.history[\"val_accuracy\"])\r\n",
        "plt.title(\"model accuracy\")\r\n",
        "plt.ylabel(\"accuracy\")\r\n",
        "plt.xlabel(\"epoch\")\r\n",
        "plt.legend([\"train\", \"test\"], loc=\"upper left\")\r\n",
        "plt.show()"
      ],
      "execution_count": null,
      "outputs": [
        {
          "output_type": "display_data",
          "data": {
            "image/png": "[encoded data removed]",
            "text/plain": [
              "<Figure size 432x288 with 1 Axes>"
            ]
          },
          "metadata": {
            "tags": [],
            "needs_background": "light"
          }
        }
      ]
    },
    {
      "cell_type": "markdown",
      "metadata": {
        "id": "MW8mL4uqBNnn"
      },
      "source": [
        "###Testing"
      ]
    },
    {
      "cell_type": "code",
      "metadata": {
        "colab": {
          "base_uri": "https://localhost:8080/"
        },
        "id": "QsW_mNlOBPfz",
        "outputId": "3230b98b-962b-4999-f808-ef519f3fda2c"
      },
      "source": [
        "y_pred = model.predict(X_test)\r\n",
        "new_pred = np.zeros(y_pred.shape[0])\r\n",
        "for i in range(y_pred.shape[0]):\r\n",
        "  new_pred[i] = np.argmax(y_pred[i])\r\n",
        "print(\"Testing Accuracy: \", sklearn.metrics.accuracy_score(y_true=y_test, y_pred=new_pred))"
      ],
      "execution_count": null,
      "outputs": [
        {
          "output_type": "stream",
          "text": [
            "Testing Accuracy:  0.661472326706072\n"
          ],
          "name": "stdout"
        }
      ]
    }
  ]
}