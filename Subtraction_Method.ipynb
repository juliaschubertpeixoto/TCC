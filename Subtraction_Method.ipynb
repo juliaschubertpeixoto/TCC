{
  "nbformat": 4,
  "nbformat_minor": 0,
  "metadata": {
    "colab": {
      "name": "Subtraction Method.ipynb",
      "provenance": [],
      "mount_file_id": "1V8TRazHK0ZrAJm0v7n7JFjN7nONFLVED",
      "authorship_tag": "ABX9TyP64WaiwyO9vPa8hLlOR7Ai",
      "include_colab_link": true
    },
    "kernelspec": {
      "name": "python3",
      "display_name": "Python 3"
    },
    "accelerator": "GPU"
  },
  "cells": [
    {
      "cell_type": "markdown",
      "metadata": {
        "id": "view-in-github",
        "colab_type": "text"
      },
      "source": [
        "<a href=\"https://colab.research.google.com/github/juliaschubertpeixoto/TCC/blob/main/Subtraction_Method.ipynb\" target=\"_parent\"><img src=\"https://colab.research.google.com/assets/colab-badge.svg\" alt=\"Open In Colab\"/></a>"
      ]
    },
    {
      "cell_type": "markdown",
      "metadata": {
        "id": "0Gt7Z3lxGpAH"
      },
      "source": [
        "#Libraries\r\n"
      ]
    },
    {
      "cell_type": "code",
      "metadata": {
        "id": "zlg2-8759jcV"
      },
      "source": [
        "from matplotlib import pyplot as plt\r\n",
        "import numpy as np\r\n",
        "import os\r\n",
        "import sklearn\r\n",
        "from sklearn.model_selection import train_test_split\r\n",
        "from sklearn.preprocessing import StandardScaler, MaxAbsScaler, MinMaxScaler\r\n",
        "from sklearn.utils import shuffle\r\n",
        "import tensorflow as tf \r\n",
        "from tensorflow.keras import datasets, layers, models"
      ],
      "execution_count": null,
      "outputs": []
    },
    {
      "cell_type": "markdown",
      "metadata": {
        "id": "NWqXpN3DPrUB"
      },
      "source": [
        "#Data Processing"
      ]
    },
    {
      "cell_type": "markdown",
      "metadata": {
        "id": "SyMUE8WzGo6U"
      },
      "source": [
        "##Load Data"
      ]
    },
    {
      "cell_type": "code",
      "metadata": {
        "colab": {
          "base_uri": "https://localhost:8080/"
        },
        "id": "7iKD6-EUHYbM",
        "outputId": "8089b4f1-5927-45a0-e049-8bf4eeac071b"
      },
      "source": [
        "path = '/content/drive/MyDrive/[TCC] Final Version/MSRC-12 Dataset/Subtraction Method/'\r\n",
        "os.chdir(path)\r\n",
        "X_train = np.load('train_data.npy' ).astype(np.float32)\r\n",
        "y_train = np.load('train_tag.npy' ).astype(np.int32)\r\n",
        "X_val = np.load('eval_data.npy' ).astype(np.float32)\r\n",
        "y_val = np.load('eval_tag.npy' ).astype(np.int32)\r\n",
        "print(\"Data imported successfuly!\")"
      ],
      "execution_count": null,
      "outputs": [
        {
          "output_type": "stream",
          "text": [
            "Data imported successfuly!\n"
          ],
          "name": "stdout"
        }
      ]
    },
    {
      "cell_type": "markdown",
      "metadata": {
        "id": "9UvKV5PZJ7lM"
      },
      "source": [
        "##Split Data"
      ]
    },
    {
      "cell_type": "code",
      "metadata": {
        "colab": {
          "base_uri": "https://localhost:8080/"
        },
        "id": "8zMZdGkGJs77",
        "outputId": "80c3ac6c-05f8-4cd0-b694-2f56a5afca9b"
      },
      "source": [
        "X_val, X_test, y_val, y_test = train_test_split(X_val, y_val, test_size=0.50, random_state=42)\r\n",
        "print(\"Data splited successfuly!\")\r\n",
        "print(\" \")\r\n",
        "print(\"Number of samples on training set:\", y_train.shape[0])\r\n",
        "print(\"Number of samples on validation set:\", y_val.shape[0])\r\n",
        "print(\"Number of samples on test set:\", y_test.shape[0])"
      ],
      "execution_count": null,
      "outputs": [
        {
          "output_type": "stream",
          "text": [
            "Data splited successfuly!\n",
            " \n",
            "Number of samples on training set: 4191\n",
            "Number of samples on validation set: 1032\n",
            "Number of samples on test set: 1032\n"
          ],
          "name": "stdout"
        }
      ]
    },
    {
      "cell_type": "markdown",
      "metadata": {
        "id": "mRxlQO96Kkri"
      },
      "source": [
        "##Normalize data"
      ]
    },
    {
      "cell_type": "code",
      "metadata": {
        "colab": {
          "base_uri": "https://localhost:8080/"
        },
        "id": "zdOLmrK4KOF0",
        "outputId": "16c7fd06-f534-49e9-ff3b-e5bee51484b2"
      },
      "source": [
        "new_train_data = tf.reshape(X_train, (-1,667*57)) \r\n",
        "n = MaxAbsScaler() \r\n",
        "n.fit(new_train_data)\r\n",
        "newN = n.transform(new_train_data)\r\n",
        "X_train = tf.reshape(newN, (-1,667,57))\r\n",
        "print(\"Data normalized successfuly!\")"
      ],
      "execution_count": null,
      "outputs": [
        {
          "output_type": "stream",
          "text": [
            "Data normalized successfuly!\n"
          ],
          "name": "stdout"
        }
      ]
    },
    {
      "cell_type": "code",
      "metadata": {
        "colab": {
          "base_uri": "https://localhost:8080/"
        },
        "id": "Dg4owTkPM7Ts",
        "outputId": "4ba1e708-49ce-4492-c9e1-edff12c5226d"
      },
      "source": [
        "new_train_data = tf.reshape(X_val, (-1,667*57)) \r\n",
        "n = MaxAbsScaler() \r\n",
        "n.fit(new_train_data)\r\n",
        "newN = n.transform(new_train_data)\r\n",
        "X_val = tf.reshape(newN, (-1,667,57))\r\n",
        "print(\"Data normalized successfuly!\")"
      ],
      "execution_count": null,
      "outputs": [
        {
          "output_type": "stream",
          "text": [
            "Data normalized successfuly!\n"
          ],
          "name": "stdout"
        }
      ]
    },
    {
      "cell_type": "code",
      "metadata": {
        "colab": {
          "base_uri": "https://localhost:8080/"
        },
        "id": "gAGw2I9jVDON",
        "outputId": "f413c396-8ae4-4b64-8057-26336abf089c"
      },
      "source": [
        "new_train_data = tf.reshape(X_test, (-1,667*57)) \r\n",
        "n = MaxAbsScaler() \r\n",
        "n.fit(new_train_data)\r\n",
        "newN = n.transform(new_train_data)\r\n",
        "X_test = tf.reshape(newN, (-1,667,57))\r\n",
        "print(\"Data normalized successfuly!\")"
      ],
      "execution_count": null,
      "outputs": [
        {
          "output_type": "stream",
          "text": [
            "Data normalized successfuly!\n"
          ],
          "name": "stdout"
        }
      ]
    },
    {
      "cell_type": "markdown",
      "metadata": {
        "id": "G_mqdMQVRDfz"
      },
      "source": [
        "##Reshape Data"
      ]
    },
    {
      "cell_type": "code",
      "metadata": {
        "colab": {
          "base_uri": "https://localhost:8080/"
        },
        "id": "8wSNw5ToRC_N",
        "outputId": "2f91a025-af54-42e7-bfab-92226b1e59ab"
      },
      "source": [
        "train_data_conv = tf.reshape(X_train, (-1,667,57,1))\r\n",
        "val_data_conv = tf.reshape(X_val, (-1,667,57,1))\r\n",
        "test_data_conv = tf.reshape(X_test, (-1,667,57,1))\r\n",
        "print(\"Data reshaped successfuly!\")"
      ],
      "execution_count": null,
      "outputs": [
        {
          "output_type": "stream",
          "text": [
            "Data reshaped successfuly!\n"
          ],
          "name": "stdout"
        }
      ]
    },
    {
      "cell_type": "markdown",
      "metadata": {
        "id": "iv-KT3ELP70A"
      },
      "source": [
        "#Convolutional Neural Network"
      ]
    },
    {
      "cell_type": "markdown",
      "metadata": {
        "id": "dXXegdl2P0kh"
      },
      "source": [
        "##Training"
      ]
    },
    {
      "cell_type": "markdown",
      "metadata": {
        "id": "FF4vLXFFQsmd"
      },
      "source": [
        "*Proposed Model*"
      ]
    },
    {
      "cell_type": "code",
      "metadata": {
        "colab": {
          "base_uri": "https://localhost:8080/"
        },
        "id": "T_RD0YRfNuAL",
        "outputId": "739d670f-d0c8-4b4c-e9d2-32b2b32fa0a6"
      },
      "source": [
        "model = models.Sequential()\r\n",
        "model.add(layers.Input(shape=(667,57,1)))\r\n",
        "model.add(layers.Conv2D(16, (3, 3), activation='relu', padding='same'))\r\n",
        "model.add(layers.MaxPooling2D((3, 3), strides=3))\r\n",
        "model.add(layers.Conv2D(32, (3, 3), activation='relu', padding='same'))\r\n",
        "model.add(layers.MaxPooling2D((3, 3), strides=3))\r\n",
        "model.add(layers.Conv2D(64, (3, 3), activation='relu', padding='same'))\r\n",
        "model.add(layers.MaxPooling2D((2,2), strides=2))\r\n",
        "model.add(layers.Flatten())\r\n",
        "model.add(layers.Dense(units=7104, activation='relu'))\r\n",
        "model.add(layers.Dropout(0.4))\r\n",
        "model.add(layers.Dense(units=12, activation='softmax'))\r\n",
        "model.summary()\r\n",
        "\r\n",
        "model.compile(optimizer='Adam',\r\n",
        "              loss='sparse_categorical_crossentropy',\r\n",
        "              metrics=['accuracy'])"
      ],
      "execution_count": null,
      "outputs": [
        {
          "output_type": "stream",
          "text": [
            "Model: \"sequential\"\n",
            "_________________________________________________________________\n",
            "Layer (type)                 Output Shape              Param #   \n",
            "=================================================================\n",
            "conv2d (Conv2D)              (None, 667, 57, 16)       160       \n",
            "_________________________________________________________________\n",
            "max_pooling2d (MaxPooling2D) (None, 222, 19, 16)       0         \n",
            "_________________________________________________________________\n",
            "conv2d_1 (Conv2D)            (None, 222, 19, 32)       4640      \n",
            "_________________________________________________________________\n",
            "max_pooling2d_1 (MaxPooling2 (None, 74, 6, 32)         0         \n",
            "_________________________________________________________________\n",
            "conv2d_2 (Conv2D)            (None, 74, 6, 64)         18496     \n",
            "_________________________________________________________________\n",
            "max_pooling2d_2 (MaxPooling2 (None, 37, 3, 64)         0         \n",
            "_________________________________________________________________\n",
            "flatten (Flatten)            (None, 7104)              0         \n",
            "_________________________________________________________________\n",
            "dense (Dense)                (None, 7104)              50473920  \n",
            "_________________________________________________________________\n",
            "dropout (Dropout)            (None, 7104)              0         \n",
            "_________________________________________________________________\n",
            "dense_1 (Dense)              (None, 12)                85260     \n",
            "=================================================================\n",
            "Total params: 50,582,476\n",
            "Trainable params: 50,582,476\n",
            "Non-trainable params: 0\n",
            "_________________________________________________________________\n"
          ],
          "name": "stdout"
        }
      ]
    },
    {
      "cell_type": "markdown",
      "metadata": {
        "id": "iPBdpSwjQ8Dw"
      },
      "source": [
        "*Training*"
      ]
    },
    {
      "cell_type": "code",
      "metadata": {
        "colab": {
          "base_uri": "https://localhost:8080/"
        },
        "id": "iST1d_JzQ7C-",
        "outputId": "a9743186-557f-4cd0-fd14-730b2fecf6ea"
      },
      "source": [
        "history = model.fit(train_data_conv, y_train,\r\n",
        "          validation_data=(val_data_conv, y_val),\r\n",
        "          batch_size=10,\r\n",
        "          epochs=30, shuffle=True)"
      ],
      "execution_count": null,
      "outputs": [
        {
          "output_type": "stream",
          "text": [
            "Epoch 1/30\n",
            "420/420 [==============================] - 16s 20ms/step - loss: 2.1409 - accuracy: 0.2854 - val_loss: 1.4340 - val_accuracy: 0.5058\n",
            "Epoch 2/30\n",
            "420/420 [==============================] - 8s 18ms/step - loss: 1.2077 - accuracy: 0.5732 - val_loss: 0.9274 - val_accuracy: 0.6851\n",
            "Epoch 3/30\n",
            "420/420 [==============================] - 7s 18ms/step - loss: 0.9233 - accuracy: 0.6835 - val_loss: 0.7999 - val_accuracy: 0.7345\n",
            "Epoch 4/30\n",
            "420/420 [==============================] - 7s 18ms/step - loss: 0.6897 - accuracy: 0.7685 - val_loss: 0.7883 - val_accuracy: 0.7364\n",
            "Epoch 5/30\n",
            "420/420 [==============================] - 8s 18ms/step - loss: 0.5822 - accuracy: 0.7981 - val_loss: 0.7622 - val_accuracy: 0.7703\n",
            "Epoch 6/30\n",
            "420/420 [==============================] - 8s 18ms/step - loss: 0.5207 - accuracy: 0.8223 - val_loss: 0.5756 - val_accuracy: 0.8120\n",
            "Epoch 7/30\n",
            "420/420 [==============================] - 8s 18ms/step - loss: 0.4562 - accuracy: 0.8403 - val_loss: 0.6648 - val_accuracy: 0.8072\n",
            "Epoch 8/30\n",
            "420/420 [==============================] - 8s 18ms/step - loss: 0.4181 - accuracy: 0.8635 - val_loss: 0.6315 - val_accuracy: 0.8159\n",
            "Epoch 9/30\n",
            "420/420 [==============================] - 8s 19ms/step - loss: 0.3305 - accuracy: 0.8886 - val_loss: 0.5820 - val_accuracy: 0.8353\n",
            "Epoch 10/30\n",
            "420/420 [==============================] - 8s 18ms/step - loss: 0.3865 - accuracy: 0.8744 - val_loss: 0.6144 - val_accuracy: 0.8333\n",
            "Epoch 11/30\n",
            "420/420 [==============================] - 8s 19ms/step - loss: 0.2286 - accuracy: 0.9229 - val_loss: 0.6833 - val_accuracy: 0.8198\n",
            "Epoch 12/30\n",
            "420/420 [==============================] - 8s 19ms/step - loss: 0.2658 - accuracy: 0.9158 - val_loss: 0.6469 - val_accuracy: 0.8527\n",
            "Epoch 13/30\n",
            "420/420 [==============================] - 8s 19ms/step - loss: 0.1804 - accuracy: 0.9370 - val_loss: 0.8339 - val_accuracy: 0.8110\n",
            "Epoch 14/30\n",
            "420/420 [==============================] - 8s 19ms/step - loss: 0.2400 - accuracy: 0.9190 - val_loss: 0.6362 - val_accuracy: 0.8614\n",
            "Epoch 15/30\n",
            "420/420 [==============================] - 8s 19ms/step - loss: 0.2161 - accuracy: 0.9311 - val_loss: 0.7434 - val_accuracy: 0.8488\n",
            "Epoch 16/30\n",
            "420/420 [==============================] - 8s 19ms/step - loss: 0.1515 - accuracy: 0.9526 - val_loss: 0.6231 - val_accuracy: 0.8624\n",
            "Epoch 17/30\n",
            "420/420 [==============================] - 8s 19ms/step - loss: 0.2000 - accuracy: 0.9426 - val_loss: 0.6774 - val_accuracy: 0.8537\n",
            "Epoch 18/30\n",
            "420/420 [==============================] - 8s 18ms/step - loss: 0.1447 - accuracy: 0.9522 - val_loss: 0.6746 - val_accuracy: 0.8740\n",
            "Epoch 19/30\n",
            "420/420 [==============================] - 8s 18ms/step - loss: 0.1057 - accuracy: 0.9688 - val_loss: 0.8038 - val_accuracy: 0.8295\n",
            "Epoch 20/30\n",
            "420/420 [==============================] - 8s 18ms/step - loss: 0.1927 - accuracy: 0.9391 - val_loss: 0.7076 - val_accuracy: 0.8605\n",
            "Epoch 21/30\n",
            "420/420 [==============================] - 8s 18ms/step - loss: 0.1114 - accuracy: 0.9671 - val_loss: 0.7283 - val_accuracy: 0.8779\n",
            "Epoch 22/30\n",
            "420/420 [==============================] - 8s 18ms/step - loss: 0.0967 - accuracy: 0.9694 - val_loss: 1.0006 - val_accuracy: 0.8314\n",
            "Epoch 23/30\n",
            "420/420 [==============================] - 8s 18ms/step - loss: 0.0953 - accuracy: 0.9675 - val_loss: 0.8256 - val_accuracy: 0.8760\n",
            "Epoch 24/30\n",
            "420/420 [==============================] - 8s 19ms/step - loss: 0.1363 - accuracy: 0.9604 - val_loss: 0.8326 - val_accuracy: 0.8672\n",
            "Epoch 25/30\n",
            "420/420 [==============================] - 8s 19ms/step - loss: 0.1128 - accuracy: 0.9630 - val_loss: 0.9305 - val_accuracy: 0.8740\n",
            "Epoch 26/30\n",
            "420/420 [==============================] - 8s 19ms/step - loss: 0.0643 - accuracy: 0.9797 - val_loss: 1.0021 - val_accuracy: 0.8527\n",
            "Epoch 27/30\n",
            "420/420 [==============================] - 8s 18ms/step - loss: 0.1412 - accuracy: 0.9665 - val_loss: 0.8596 - val_accuracy: 0.8634\n",
            "Epoch 28/30\n",
            "420/420 [==============================] - 8s 18ms/step - loss: 0.0635 - accuracy: 0.9814 - val_loss: 0.9156 - val_accuracy: 0.8721\n",
            "Epoch 29/30\n",
            "420/420 [==============================] - 8s 18ms/step - loss: 0.1223 - accuracy: 0.9642 - val_loss: 0.8833 - val_accuracy: 0.8653\n",
            "Epoch 30/30\n",
            "420/420 [==============================] - 8s 18ms/step - loss: 0.0860 - accuracy: 0.9712 - val_loss: 0.9395 - val_accuracy: 0.8362\n"
          ],
          "name": "stdout"
        }
      ]
    },
    {
      "cell_type": "markdown",
      "metadata": {
        "id": "rNy2QplIYRUl"
      },
      "source": [
        "###Analysis"
      ]
    },
    {
      "cell_type": "code",
      "metadata": {
        "colab": {
          "base_uri": "https://localhost:8080/",
          "height": 295
        },
        "id": "hN2s_EBeV5Zi",
        "outputId": "ce308e48-8a9d-443d-bf80-9bb26303ad9d"
      },
      "source": [
        "plt.plot(history.history[\"loss\"])\r\n",
        "plt.plot(history.history[\"val_loss\"])\r\n",
        "plt.title(\"model loss\")\r\n",
        "plt.ylabel(\"loss\")\r\n",
        "plt.xlabel(\"epoch\")\r\n",
        "plt.legend([\"train\", \"test\"], loc=\"upper left\")\r\n",
        "plt.show()"
      ],
      "execution_count": null,
      "outputs": [
        {
          "output_type": "display_data",
          "data": {
            "image/png": "[encoded data removed]",
            "text/plain": [
              "<Figure size 432x288 with 1 Axes>"
            ]
          },
          "metadata": {
            "tags": [],
            "needs_background": "light"
          }
        }
      ]
    },
    {
      "cell_type": "code",
      "metadata": {
        "colab": {
          "base_uri": "https://localhost:8080/",
          "height": 295
        },
        "id": "Mhfy-MWmXb-P",
        "outputId": "da9f8d6c-7741-4895-fcbe-4e6da4f38b58"
      },
      "source": [
        "plt.plot(history.history[\"accuracy\"])\r\n",
        "plt.plot(history.history[\"val_accuracy\"])\r\n",
        "plt.title(\"model accuracy\")\r\n",
        "plt.ylabel(\"accuracy\")\r\n",
        "plt.xlabel(\"epoch\")\r\n",
        "plt.legend([\"train\", \"test\"], loc=\"upper left\")\r\n",
        "plt.show()"
      ],
      "execution_count": null,
      "outputs": [
        {
          "output_type": "display_data",
          "data": {
            "image/png": "[encoded data removed]",
            "text/plain": [
              "<Figure size 432x288 with 1 Axes>"
            ]
          },
          "metadata": {
            "tags": [],
            "needs_background": "light"
          }
        }
      ]
    },
    {
      "cell_type": "markdown",
      "metadata": {
        "id": "6y0t0T8QYcyx"
      },
      "source": [
        "###Testing"
      ]
    },
    {
      "cell_type": "code",
      "metadata": {
        "colab": {
          "base_uri": "https://localhost:8080/"
        },
        "id": "xMxoIalGYd2f",
        "outputId": "efcd1c4a-2755-463c-9fc9-c95a16a2f875"
      },
      "source": [
        "y_pred = model.predict(test_data_conv)\r\n",
        "new_pred = np.zeros(y_pred.shape[0])\r\n",
        "for i in range(y_pred.shape[0]):\r\n",
        "  new_pred[i] = np.argmax(y_pred[i])\r\n",
        "print(\"Testing Accuracy: \", sklearn.metrics.accuracy_score(y_true=y_test, y_pred=new_pred))"
      ],
      "execution_count": null,
      "outputs": [
        {
          "output_type": "stream",
          "text": [
            "Testing Accuracy:  0.8488372093023255\n"
          ],
          "name": "stdout"
        }
      ]
    },
    {
      "cell_type": "markdown",
      "metadata": {
        "id": "ikBt7PRX-mkZ"
      },
      "source": [
        "#Recurrent Neural Network"
      ]
    },
    {
      "cell_type": "markdown",
      "metadata": {
        "id": "ri8J9JIYBZSj"
      },
      "source": [
        "##Training"
      ]
    },
    {
      "cell_type": "markdown",
      "metadata": {
        "id": "druHNH_v_3O7"
      },
      "source": [
        "*Model*"
      ]
    },
    {
      "cell_type": "code",
      "metadata": {
        "colab": {
          "base_uri": "https://localhost:8080/"
        },
        "id": "G4CdgzDe-mAC",
        "outputId": "38fbfcbc-97a3-41b4-d80d-39d9e168a050"
      },
      "source": [
        "model = tf.keras.Sequential([\r\n",
        "tf.keras.layers.InputLayer(input_shape=(667,57)),   \r\n",
        "tf.keras.layers.LSTM(128, return_sequences=True),\r\n",
        "tf.keras.layers.LSTM(128, dropout=0.1),\r\n",
        "tf.keras.layers.Dense(12, activation='softmax')\r\n",
        "])\r\n",
        "\r\n",
        "model.compile(optimizer = 'RMSProp',\r\n",
        "              loss = 'sparse_categorical_crossentropy',\r\n",
        "              metrics=['accuracy'])\r\n",
        "\r\n",
        "model.summary()"
      ],
      "execution_count": null,
      "outputs": [
        {
          "output_type": "stream",
          "text": [
            "Model: \"sequential_1\"\n",
            "_________________________________________________________________\n",
            "Layer (type)                 Output Shape              Param #   \n",
            "=================================================================\n",
            "lstm (LSTM)                  (None, 667, 128)          95232     \n",
            "_________________________________________________________________\n",
            "lstm_1 (LSTM)                (None, 128)               131584    \n",
            "_________________________________________________________________\n",
            "dense_2 (Dense)              (None, 12)                1548      \n",
            "=================================================================\n",
            "Total params: 228,364\n",
            "Trainable params: 228,364\n",
            "Non-trainable params: 0\n",
            "_________________________________________________________________\n"
          ],
          "name": "stdout"
        }
      ]
    },
    {
      "cell_type": "markdown",
      "metadata": {
        "id": "Om6KPZGFAAOm"
      },
      "source": [
        "*Training*"
      ]
    },
    {
      "cell_type": "code",
      "metadata": {
        "colab": {
          "base_uri": "https://localhost:8080/"
        },
        "id": "Gg95nAT-__YR",
        "outputId": "badf56da-f353-428b-bc5f-8141df680ec6"
      },
      "source": [
        "history = model.fit(X_train, y_train,\r\n",
        "          validation_data=(X_val, y_val),\r\n",
        "          batch_size=10,\r\n",
        "          epochs=30, shuffle=True)"
      ],
      "execution_count": null,
      "outputs": [
        {
          "output_type": "stream",
          "text": [
            "Epoch 1/30\n",
            "420/420 [==============================] - 25s 53ms/step - loss: 1.7660 - accuracy: 0.3668 - val_loss: 1.2201 - val_accuracy: 0.5504\n",
            "Epoch 2/30\n",
            "420/420 [==============================] - 21s 51ms/step - loss: 1.1145 - accuracy: 0.6237 - val_loss: 1.1295 - val_accuracy: 0.6424\n",
            "Epoch 3/30\n",
            "420/420 [==============================] - 21s 51ms/step - loss: 0.9117 - accuracy: 0.7024 - val_loss: 0.9731 - val_accuracy: 0.6705\n",
            "Epoch 4/30\n",
            "420/420 [==============================] - 21s 51ms/step - loss: 0.8386 - accuracy: 0.7240 - val_loss: 0.7880 - val_accuracy: 0.7607\n",
            "Epoch 5/30\n",
            "420/420 [==============================] - 21s 50ms/step - loss: 0.7146 - accuracy: 0.7690 - val_loss: 0.7166 - val_accuracy: 0.7752\n",
            "Epoch 6/30\n",
            "420/420 [==============================] - 22s 51ms/step - loss: 0.6409 - accuracy: 0.7906 - val_loss: 0.6830 - val_accuracy: 0.7829\n",
            "Epoch 7/30\n",
            "420/420 [==============================] - 21s 51ms/step - loss: 0.6227 - accuracy: 0.8021 - val_loss: 0.6383 - val_accuracy: 0.8023\n",
            "Epoch 8/30\n",
            "420/420 [==============================] - 21s 51ms/step - loss: 0.5435 - accuracy: 0.8199 - val_loss: 0.5960 - val_accuracy: 0.8120\n",
            "Epoch 9/30\n",
            "420/420 [==============================] - 21s 51ms/step - loss: 0.4713 - accuracy: 0.8493 - val_loss: 0.6378 - val_accuracy: 0.7888\n",
            "Epoch 10/30\n",
            "420/420 [==============================] - 22s 51ms/step - loss: 0.4920 - accuracy: 0.8441 - val_loss: 0.6894 - val_accuracy: 0.8091\n",
            "Epoch 11/30\n",
            "420/420 [==============================] - 22s 52ms/step - loss: 0.4865 - accuracy: 0.8512 - val_loss: 0.6175 - val_accuracy: 0.8062\n",
            "Epoch 12/30\n",
            "420/420 [==============================] - 22s 52ms/step - loss: 0.4516 - accuracy: 0.8623 - val_loss: 0.6557 - val_accuracy: 0.8130\n",
            "Epoch 13/30\n",
            "420/420 [==============================] - 22s 52ms/step - loss: 0.4287 - accuracy: 0.8634 - val_loss: 0.5093 - val_accuracy: 0.8517\n",
            "Epoch 14/30\n",
            "420/420 [==============================] - 22s 51ms/step - loss: 0.4185 - accuracy: 0.8696 - val_loss: 0.5731 - val_accuracy: 0.8421\n",
            "Epoch 15/30\n",
            "420/420 [==============================] - 22s 52ms/step - loss: 0.4186 - accuracy: 0.8638 - val_loss: 0.5966 - val_accuracy: 0.8372\n",
            "Epoch 16/30\n",
            "420/420 [==============================] - 22s 52ms/step - loss: 0.3326 - accuracy: 0.8979 - val_loss: 0.5919 - val_accuracy: 0.8411\n",
            "Epoch 17/30\n",
            "420/420 [==============================] - 22s 52ms/step - loss: 0.3602 - accuracy: 0.8882 - val_loss: 0.5239 - val_accuracy: 0.8624\n",
            "Epoch 18/30\n",
            "420/420 [==============================] - 22s 53ms/step - loss: 0.3564 - accuracy: 0.8933 - val_loss: 0.5687 - val_accuracy: 0.8469\n",
            "Epoch 19/30\n",
            "420/420 [==============================] - 22s 51ms/step - loss: 0.3084 - accuracy: 0.9075 - val_loss: 0.5466 - val_accuracy: 0.8508\n",
            "Epoch 20/30\n",
            "420/420 [==============================] - 22s 52ms/step - loss: 0.2552 - accuracy: 0.9188 - val_loss: 0.4693 - val_accuracy: 0.8769\n",
            "Epoch 21/30\n",
            "420/420 [==============================] - 22s 52ms/step - loss: 0.2679 - accuracy: 0.9227 - val_loss: 0.5293 - val_accuracy: 0.8576\n",
            "Epoch 22/30\n",
            "420/420 [==============================] - 22s 52ms/step - loss: 0.2766 - accuracy: 0.9115 - val_loss: 0.5215 - val_accuracy: 0.8576\n",
            "Epoch 23/30\n",
            "420/420 [==============================] - 22s 52ms/step - loss: 0.2456 - accuracy: 0.9230 - val_loss: 0.4762 - val_accuracy: 0.8760\n",
            "Epoch 24/30\n",
            "420/420 [==============================] - 22s 52ms/step - loss: 0.2314 - accuracy: 0.9357 - val_loss: 0.4797 - val_accuracy: 0.8682\n",
            "Epoch 25/30\n",
            "420/420 [==============================] - 22s 52ms/step - loss: 0.2501 - accuracy: 0.9232 - val_loss: 0.5336 - val_accuracy: 0.8672\n",
            "Epoch 26/30\n",
            "420/420 [==============================] - 22s 52ms/step - loss: 0.2343 - accuracy: 0.9289 - val_loss: 0.4513 - val_accuracy: 0.8886\n",
            "Epoch 27/30\n",
            "420/420 [==============================] - 22s 51ms/step - loss: 0.1985 - accuracy: 0.9425 - val_loss: 0.4684 - val_accuracy: 0.8808\n",
            "Epoch 28/30\n",
            "420/420 [==============================] - 22s 52ms/step - loss: 0.2355 - accuracy: 0.9305 - val_loss: 0.4824 - val_accuracy: 0.8866\n",
            "Epoch 29/30\n",
            "420/420 [==============================] - 22s 51ms/step - loss: 0.1937 - accuracy: 0.9395 - val_loss: 0.4690 - val_accuracy: 0.8779\n",
            "Epoch 30/30\n",
            "420/420 [==============================] - 22s 51ms/step - loss: 0.1861 - accuracy: 0.9434 - val_loss: 0.5017 - val_accuracy: 0.8605\n"
          ],
          "name": "stdout"
        }
      ]
    },
    {
      "cell_type": "markdown",
      "metadata": {
        "id": "kqeb4Ln_A6jy"
      },
      "source": [
        "###Analysis"
      ]
    },
    {
      "cell_type": "code",
      "metadata": {
        "colab": {
          "base_uri": "https://localhost:8080/",
          "height": 295
        },
        "id": "7Ude2W-OA4JD",
        "outputId": "6a67b874-67fc-489e-8e7d-4b72498e42e4"
      },
      "source": [
        "plt.plot(history.history[\"loss\"])\r\n",
        "plt.plot(history.history[\"val_loss\"])\r\n",
        "plt.title(\"model loss\")\r\n",
        "plt.ylabel(\"loss\")\r\n",
        "plt.xlabel(\"epoch\")\r\n",
        "plt.legend([\"train\", \"test\"], loc=\"upper left\")\r\n",
        "plt.show()"
      ],
      "execution_count": null,
      "outputs": [
        {
          "output_type": "display_data",
          "data": {
            "image/png": "[encoded data removed]",
            "text/plain": [
              "<Figure size 432x288 with 1 Axes>"
            ]
          },
          "metadata": {
            "tags": [],
            "needs_background": "light"
          }
        }
      ]
    },
    {
      "cell_type": "code",
      "metadata": {
        "colab": {
          "base_uri": "https://localhost:8080/",
          "height": 295
        },
        "id": "tl1sxVEiAuXy",
        "outputId": "cbf78be5-1594-420b-f1a0-b527dd90d6f9"
      },
      "source": [
        "plt.plot(history.history[\"accuracy\"])\r\n",
        "plt.plot(history.history[\"val_accuracy\"])\r\n",
        "plt.title(\"model accuracy\")\r\n",
        "plt.ylabel(\"accuracy\")\r\n",
        "plt.xlabel(\"epoch\")\r\n",
        "plt.legend([\"train\", \"test\"], loc=\"upper left\")\r\n",
        "plt.show()"
      ],
      "execution_count": null,
      "outputs": [
        {
          "output_type": "display_data",
          "data": {
            "image/png": "[encoded data removed]",
            "text/plain": [
              "<Figure size 432x288 with 1 Axes>"
            ]
          },
          "metadata": {
            "tags": [],
            "needs_background": "light"
          }
        }
      ]
    },
    {
      "cell_type": "markdown",
      "metadata": {
        "id": "MW8mL4uqBNnn"
      },
      "source": [
        "###Testing"
      ]
    },
    {
      "cell_type": "code",
      "metadata": {
        "colab": {
          "base_uri": "https://localhost:8080/"
        },
        "id": "QsW_mNlOBPfz",
        "outputId": "b4828c7f-1623-4214-a4ed-1dae1e94c781"
      },
      "source": [
        "y_pred = model.predict(X_test)\r\n",
        "new_pred = np.zeros(y_pred.shape[0])\r\n",
        "for i in range(y_pred.shape[0]):\r\n",
        "  new_pred[i] = np.argmax(y_pred[i])\r\n",
        "print(\"Testing Accuracy: \", sklearn.metrics.accuracy_score(y_true=y_test, y_pred=new_pred))"
      ],
      "execution_count": null,
      "outputs": [
        {
          "output_type": "stream",
          "text": [
            "Testing Accuracy:  0.8711240310077519\n"
          ],
          "name": "stdout"
        }
      ]
    }
  ]
}