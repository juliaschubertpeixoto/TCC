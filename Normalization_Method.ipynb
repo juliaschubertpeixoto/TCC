{
  "nbformat": 4,
  "nbformat_minor": 0,
  "metadata": {
    "colab": {
      "name": "Normalization Method.ipynb",
      "provenance": [],
      "collapsed_sections": [],
      "mount_file_id": "1HkrTiBs-SPZVtreuez3mU2uVGsc8gN00",
      "authorship_tag": "ABX9TyMC9bhs9C8sXG1fMWdpB6EM",
      "include_colab_link": true
    },
    "kernelspec": {
      "name": "python3",
      "display_name": "Python 3"
    },
    "accelerator": "GPU"
  },
  "cells": [
    {
      "cell_type": "markdown",
      "metadata": {
        "id": "view-in-github",
        "colab_type": "text"
      },
      "source": [
        "<a href=\"https://colab.research.google.com/github/juliaschubertpeixoto/TCC/blob/main/Normalization_Method.ipynb\" target=\"_parent\"><img src=\"https://colab.research.google.com/assets/colab-badge.svg\" alt=\"Open In Colab\"/></a>"
      ]
    },
    {
      "cell_type": "markdown",
      "metadata": {
        "id": "0Gt7Z3lxGpAH"
      },
      "source": [
        "#Libraries\r\n"
      ]
    },
    {
      "cell_type": "code",
      "metadata": {
        "id": "zlg2-8759jcV"
      },
      "source": [
        "from matplotlib import pyplot as plt\r\n",
        "import numpy as np\r\n",
        "import os\r\n",
        "import sklearn\r\n",
        "from sklearn.model_selection import train_test_split\r\n",
        "from sklearn.preprocessing import StandardScaler, MaxAbsScaler, MinMaxScaler\r\n",
        "from sklearn.utils import shuffle\r\n",
        "import tensorflow as tf \r\n",
        "from tensorflow.keras import datasets, layers, models"
      ],
      "execution_count": null,
      "outputs": []
    },
    {
      "cell_type": "markdown",
      "metadata": {
        "id": "NWqXpN3DPrUB"
      },
      "source": [
        "#Data Processing"
      ]
    },
    {
      "cell_type": "markdown",
      "metadata": {
        "id": "SyMUE8WzGo6U"
      },
      "source": [
        "##Load Data"
      ]
    },
    {
      "cell_type": "code",
      "metadata": {
        "colab": {
          "base_uri": "https://localhost:8080/"
        },
        "id": "7iKD6-EUHYbM",
        "outputId": "3dfa470d-c25d-41e3-c355-b48a9763294e"
      },
      "source": [
        "path = '/content/drive/MyDrive/[TCC] Final Version/MSRC-12 Dataset/Normalization Method/'\r\n",
        "os.chdir(path)\r\n",
        "X_train = np.load('train_data.npy' ).astype(np.float32)\r\n",
        "y_train = np.load('train_tag.npy' ).astype(np.int32)\r\n",
        "X_val = np.load('eval_data.npy' ).astype(np.float32)\r\n",
        "y_val = np.load('eval_tag.npy' ).astype(np.int32)\r\n",
        "print(\"Data imported successfuly!\")"
      ],
      "execution_count": null,
      "outputs": [
        {
          "output_type": "stream",
          "text": [
            "Data imported successfuly!\n"
          ],
          "name": "stdout"
        }
      ]
    },
    {
      "cell_type": "markdown",
      "metadata": {
        "id": "9UvKV5PZJ7lM"
      },
      "source": [
        "##Split Data"
      ]
    },
    {
      "cell_type": "code",
      "metadata": {
        "colab": {
          "base_uri": "https://localhost:8080/"
        },
        "id": "8zMZdGkGJs77",
        "outputId": "d739a76f-2bcb-417c-8465-42a85463be45"
      },
      "source": [
        "X_val, X_test, y_val, y_test = train_test_split(X_val, y_val, test_size=0.50, random_state=42)\r\n",
        "print(\"Data splited successfuly!\")\r\n",
        "print(\" \")\r\n",
        "print(\"Number of samples on training set:\", y_train.shape[0])\r\n",
        "print(\"Number of samples on validation set:\", y_val.shape[0])\r\n",
        "print(\"Number of samples on test set:\", y_test.shape[0] )"
      ],
      "execution_count": null,
      "outputs": [
        {
          "output_type": "stream",
          "text": [
            "Data splited successfuly!\n",
            " \n",
            "Number of samples on training set: 4191\n",
            "Number of samples on validation set: 1032\n",
            "Number of samples on test set: 1032\n"
          ],
          "name": "stdout"
        }
      ]
    },
    {
      "cell_type": "markdown",
      "metadata": {
        "id": "mRxlQO96Kkri"
      },
      "source": [
        "##Normalize data"
      ]
    },
    {
      "cell_type": "code",
      "metadata": {
        "colab": {
          "base_uri": "https://localhost:8080/"
        },
        "id": "zdOLmrK4KOF0",
        "outputId": "990ab986-26ac-42df-8a82-1b34d0239101"
      },
      "source": [
        "new_train_data = tf.reshape(X_train, (-1,667*60)) \r\n",
        "n = MaxAbsScaler() \r\n",
        "n.fit(new_train_data)\r\n",
        "newN = n.transform(new_train_data)\r\n",
        "X_train = tf.reshape(newN, (-1,667,60))\r\n",
        "print(\"Data normalized successfuly!\")"
      ],
      "execution_count": null,
      "outputs": [
        {
          "output_type": "stream",
          "text": [
            "Data normalized successfuly!\n"
          ],
          "name": "stdout"
        }
      ]
    },
    {
      "cell_type": "code",
      "metadata": {
        "colab": {
          "base_uri": "https://localhost:8080/"
        },
        "id": "Dg4owTkPM7Ts",
        "outputId": "6f81fad3-ecbe-4fa3-9af8-0237a984832a"
      },
      "source": [
        "new_train_data = tf.reshape(X_val, (-1,667*60)) \r\n",
        "n = MaxAbsScaler() \r\n",
        "n.fit(new_train_data)\r\n",
        "newN = n.transform(new_train_data)\r\n",
        "X_val = tf.reshape(newN, (-1,667,60))\r\n",
        "print(\"Data normalized successfuly!\")"
      ],
      "execution_count": null,
      "outputs": [
        {
          "output_type": "stream",
          "text": [
            "Data normalized successfuly!\n"
          ],
          "name": "stdout"
        }
      ]
    },
    {
      "cell_type": "code",
      "metadata": {
        "colab": {
          "base_uri": "https://localhost:8080/"
        },
        "id": "gAGw2I9jVDON",
        "outputId": "aecdc24f-ba2b-4a81-ef77-8041699b836c"
      },
      "source": [
        "new_train_data = tf.reshape(X_test, (-1,667*60)) \r\n",
        "n = MaxAbsScaler() \r\n",
        "n.fit(new_train_data)\r\n",
        "newN = n.transform(new_train_data)\r\n",
        "X_test = tf.reshape(newN, (-1,667,60))\r\n",
        "print(\"Data normalized successfuly!\")"
      ],
      "execution_count": null,
      "outputs": [
        {
          "output_type": "stream",
          "text": [
            "Data normalized successfuly!\n"
          ],
          "name": "stdout"
        }
      ]
    },
    {
      "cell_type": "markdown",
      "metadata": {
        "id": "G_mqdMQVRDfz"
      },
      "source": [
        "##Reshape Data"
      ]
    },
    {
      "cell_type": "code",
      "metadata": {
        "colab": {
          "base_uri": "https://localhost:8080/"
        },
        "id": "8wSNw5ToRC_N",
        "outputId": "37d67de2-826a-42ee-9403-f5e96bed1237"
      },
      "source": [
        "train_data_conv = tf.reshape(X_train, (-1,667,60,1))\r\n",
        "val_data_conv = tf.reshape(X_val, (-1,667,60,1))\r\n",
        "test_data_conv = tf.reshape(X_test, (-1,667,60,1))\r\n",
        "print(\"Data reshaped successfuly!\")"
      ],
      "execution_count": null,
      "outputs": [
        {
          "output_type": "stream",
          "text": [
            "Data reshaped successfuly!\n"
          ],
          "name": "stdout"
        }
      ]
    },
    {
      "cell_type": "markdown",
      "metadata": {
        "id": "iv-KT3ELP70A"
      },
      "source": [
        "#Convolutional Neural Network"
      ]
    },
    {
      "cell_type": "markdown",
      "metadata": {
        "id": "dXXegdl2P0kh"
      },
      "source": [
        "##Training"
      ]
    },
    {
      "cell_type": "markdown",
      "metadata": {
        "id": "FF4vLXFFQsmd"
      },
      "source": [
        "*Proposed Model*"
      ]
    },
    {
      "cell_type": "code",
      "metadata": {
        "colab": {
          "base_uri": "https://localhost:8080/"
        },
        "id": "T_RD0YRfNuAL",
        "outputId": "e35471a1-6490-407c-c88c-8d365f8f23cd"
      },
      "source": [
        "model = models.Sequential()\r\n",
        "model.add(layers.Input(shape=(667,60,1)))\r\n",
        "model.add(layers.Conv2D(16, (3, 3), activation='relu', padding='same'))\r\n",
        "model.add(layers.MaxPooling2D((3, 3), strides=3))\r\n",
        "model.add(layers.Conv2D(32, (3, 3), activation='relu', padding='same'))\r\n",
        "model.add(layers.MaxPooling2D((3, 3), strides=3))\r\n",
        "model.add(layers.Conv2D(64, (3, 3), activation='relu', padding='same'))\r\n",
        "model.add(layers.MaxPooling2D((2,2), strides=2))\r\n",
        "model.add(layers.Flatten())\r\n",
        "model.add(layers.Dense(units=7104, activation='relu'))\r\n",
        "model.add(layers.Dropout(0.4))\r\n",
        "model.add(layers.Dense(units=12, activation='softmax'))\r\n",
        "model.summary()\r\n",
        "\r\n",
        "model.compile(optimizer='Adam',\r\n",
        "              loss='sparse_categorical_crossentropy',\r\n",
        "              metrics=['accuracy'])"
      ],
      "execution_count": null,
      "outputs": [
        {
          "output_type": "stream",
          "text": [
            "Model: \"sequential\"\n",
            "_________________________________________________________________\n",
            "Layer (type)                 Output Shape              Param #   \n",
            "=================================================================\n",
            "conv2d (Conv2D)              (None, 667, 60, 16)       160       \n",
            "_________________________________________________________________\n",
            "max_pooling2d (MaxPooling2D) (None, 222, 20, 16)       0         \n",
            "_________________________________________________________________\n",
            "conv2d_1 (Conv2D)            (None, 222, 20, 32)       4640      \n",
            "_________________________________________________________________\n",
            "max_pooling2d_1 (MaxPooling2 (None, 74, 6, 32)         0         \n",
            "_________________________________________________________________\n",
            "conv2d_2 (Conv2D)            (None, 74, 6, 64)         18496     \n",
            "_________________________________________________________________\n",
            "max_pooling2d_2 (MaxPooling2 (None, 37, 3, 64)         0         \n",
            "_________________________________________________________________\n",
            "flatten (Flatten)            (None, 7104)              0         \n",
            "_________________________________________________________________\n",
            "dense (Dense)                (None, 7104)              50473920  \n",
            "_________________________________________________________________\n",
            "dropout (Dropout)            (None, 7104)              0         \n",
            "_________________________________________________________________\n",
            "dense_1 (Dense)              (None, 12)                85260     \n",
            "=================================================================\n",
            "Total params: 50,582,476\n",
            "Trainable params: 50,582,476\n",
            "Non-trainable params: 0\n",
            "_________________________________________________________________\n"
          ],
          "name": "stdout"
        }
      ]
    },
    {
      "cell_type": "markdown",
      "metadata": {
        "id": "iPBdpSwjQ8Dw"
      },
      "source": [
        "*Training*"
      ]
    },
    {
      "cell_type": "code",
      "metadata": {
        "colab": {
          "base_uri": "https://localhost:8080/"
        },
        "id": "iST1d_JzQ7C-",
        "outputId": "3be8526c-eed7-49b3-8354-ccb510402d70"
      },
      "source": [
        "history = model.fit(train_data_conv, y_train,\r\n",
        "          validation_data=(val_data_conv, y_val),\r\n",
        "          batch_size=10,\r\n",
        "          epochs=30, shuffle=True)"
      ],
      "execution_count": null,
      "outputs": [
        {
          "output_type": "stream",
          "text": [
            "Epoch 1/30\n",
            "420/420 [==============================] - 15s 20ms/step - loss: 2.4904 - accuracy: 0.1286 - val_loss: 1.8851 - val_accuracy: 0.3382\n",
            "Epoch 2/30\n",
            "420/420 [==============================] - 7s 18ms/step - loss: 1.6671 - accuracy: 0.3931 - val_loss: 1.3132 - val_accuracy: 0.5630\n",
            "Epoch 3/30\n",
            "420/420 [==============================] - 7s 18ms/step - loss: 1.1609 - accuracy: 0.5923 - val_loss: 1.0321 - val_accuracy: 0.6715\n",
            "Epoch 4/30\n",
            "420/420 [==============================] - 7s 18ms/step - loss: 0.8796 - accuracy: 0.7037 - val_loss: 0.9925 - val_accuracy: 0.6734\n",
            "Epoch 5/30\n",
            "420/420 [==============================] - 7s 18ms/step - loss: 0.6868 - accuracy: 0.7672 - val_loss: 0.8089 - val_accuracy: 0.7384\n",
            "Epoch 6/30\n",
            "420/420 [==============================] - 8s 19ms/step - loss: 0.4686 - accuracy: 0.8456 - val_loss: 0.7846 - val_accuracy: 0.7849\n",
            "Epoch 7/30\n",
            "420/420 [==============================] - 8s 18ms/step - loss: 0.3618 - accuracy: 0.8830 - val_loss: 0.8495 - val_accuracy: 0.7665\n",
            "Epoch 8/30\n",
            "420/420 [==============================] - 8s 18ms/step - loss: 0.2584 - accuracy: 0.9179 - val_loss: 0.7610 - val_accuracy: 0.7946\n",
            "Epoch 9/30\n",
            "420/420 [==============================] - 8s 19ms/step - loss: 0.1668 - accuracy: 0.9471 - val_loss: 0.6694 - val_accuracy: 0.8256\n",
            "Epoch 10/30\n",
            "420/420 [==============================] - 8s 19ms/step - loss: 0.1463 - accuracy: 0.9507 - val_loss: 0.6872 - val_accuracy: 0.8295\n",
            "Epoch 11/30\n",
            "420/420 [==============================] - 8s 19ms/step - loss: 0.1253 - accuracy: 0.9589 - val_loss: 0.9233 - val_accuracy: 0.7917\n",
            "Epoch 12/30\n",
            "420/420 [==============================] - 8s 19ms/step - loss: 0.1250 - accuracy: 0.9591 - val_loss: 0.7971 - val_accuracy: 0.8110\n",
            "Epoch 13/30\n",
            "420/420 [==============================] - 8s 19ms/step - loss: 0.1374 - accuracy: 0.9579 - val_loss: 0.9687 - val_accuracy: 0.8043\n",
            "Epoch 14/30\n",
            "420/420 [==============================] - 8s 19ms/step - loss: 0.1521 - accuracy: 0.9485 - val_loss: 0.8746 - val_accuracy: 0.8178\n",
            "Epoch 15/30\n",
            "420/420 [==============================] - 8s 19ms/step - loss: 0.1160 - accuracy: 0.9589 - val_loss: 1.1368 - val_accuracy: 0.8081\n",
            "Epoch 16/30\n",
            "420/420 [==============================] - 8s 18ms/step - loss: 0.1101 - accuracy: 0.9652 - val_loss: 1.6134 - val_accuracy: 0.7703\n",
            "Epoch 17/30\n",
            "420/420 [==============================] - 8s 18ms/step - loss: 0.1037 - accuracy: 0.9717 - val_loss: 0.9655 - val_accuracy: 0.8149\n",
            "Epoch 18/30\n",
            "420/420 [==============================] - 8s 18ms/step - loss: 0.1209 - accuracy: 0.9617 - val_loss: 1.0767 - val_accuracy: 0.8178\n",
            "Epoch 19/30\n",
            "420/420 [==============================] - 8s 19ms/step - loss: 0.0594 - accuracy: 0.9789 - val_loss: 0.9802 - val_accuracy: 0.8198\n",
            "Epoch 20/30\n",
            "420/420 [==============================] - 8s 19ms/step - loss: 0.0744 - accuracy: 0.9730 - val_loss: 1.3668 - val_accuracy: 0.7878\n",
            "Epoch 21/30\n",
            "420/420 [==============================] - 8s 19ms/step - loss: 0.0947 - accuracy: 0.9689 - val_loss: 1.1591 - val_accuracy: 0.8275\n",
            "Epoch 22/30\n",
            "420/420 [==============================] - 8s 18ms/step - loss: 0.0844 - accuracy: 0.9742 - val_loss: 1.0456 - val_accuracy: 0.7926\n",
            "Epoch 23/30\n",
            "420/420 [==============================] - 8s 18ms/step - loss: 0.0410 - accuracy: 0.9879 - val_loss: 1.6466 - val_accuracy: 0.7839\n",
            "Epoch 24/30\n",
            "420/420 [==============================] - 8s 19ms/step - loss: 0.0665 - accuracy: 0.9771 - val_loss: 1.1269 - val_accuracy: 0.8459\n",
            "Epoch 25/30\n",
            "420/420 [==============================] - 8s 19ms/step - loss: 0.0677 - accuracy: 0.9793 - val_loss: 0.9337 - val_accuracy: 0.8285\n",
            "Epoch 26/30\n",
            "420/420 [==============================] - 8s 19ms/step - loss: 0.0706 - accuracy: 0.9792 - val_loss: 0.9529 - val_accuracy: 0.8256\n",
            "Epoch 27/30\n",
            "420/420 [==============================] - 8s 19ms/step - loss: 0.0821 - accuracy: 0.9765 - val_loss: 1.0937 - val_accuracy: 0.8479\n",
            "Epoch 28/30\n",
            "420/420 [==============================] - 8s 19ms/step - loss: 0.1151 - accuracy: 0.9700 - val_loss: 1.1468 - val_accuracy: 0.8333\n",
            "Epoch 29/30\n",
            "420/420 [==============================] - 8s 19ms/step - loss: 0.0507 - accuracy: 0.9843 - val_loss: 1.3404 - val_accuracy: 0.8295\n",
            "Epoch 30/30\n",
            "420/420 [==============================] - 8s 19ms/step - loss: 0.1063 - accuracy: 0.9680 - val_loss: 1.1180 - val_accuracy: 0.8459\n"
          ],
          "name": "stdout"
        }
      ]
    },
    {
      "cell_type": "markdown",
      "metadata": {
        "id": "rNy2QplIYRUl"
      },
      "source": [
        "###Analysis"
      ]
    },
    {
      "cell_type": "code",
      "metadata": {
        "colab": {
          "base_uri": "https://localhost:8080/",
          "height": 295
        },
        "id": "hN2s_EBeV5Zi",
        "outputId": "b0a34726-1dd4-4bf9-dc93-8a7c89351c38"
      },
      "source": [
        "plt.plot(history.history[\"loss\"])\r\n",
        "plt.plot(history.history[\"val_loss\"])\r\n",
        "plt.title(\"model loss\")\r\n",
        "plt.ylabel(\"loss\")\r\n",
        "plt.xlabel(\"epoch\")\r\n",
        "plt.legend([\"train\", \"test\"], loc=\"upper left\")\r\n",
        "plt.show()"
      ],
      "execution_count": null,
      "outputs": [
        {
          "output_type": "display_data",
          "data": {
            "image/png": "[encoded data removed]",
            "text/plain": [
              "<Figure size 432x288 with 1 Axes>"
            ]
          },
          "metadata": {
            "tags": [],
            "needs_background": "light"
          }
        }
      ]
    },
    {
      "cell_type": "code",
      "metadata": {
        "colab": {
          "base_uri": "https://localhost:8080/",
          "height": 295
        },
        "id": "Mhfy-MWmXb-P",
        "outputId": "1cfefb6e-bd7e-4c64-de9b-c3c6d2dfd376"
      },
      "source": [
        "plt.plot(history.history[\"accuracy\"])\r\n",
        "plt.plot(history.history[\"val_accuracy\"])\r\n",
        "plt.title(\"model accuracy\")\r\n",
        "plt.ylabel(\"accuracy\")\r\n",
        "plt.xlabel(\"epoch\")\r\n",
        "plt.legend([\"train\", \"test\"], loc=\"upper left\")\r\n",
        "plt.show()"
      ],
      "execution_count": null,
      "outputs": [
        {
          "output_type": "display_data",
          "data": {
            "image/png": "[encoded data removed]",
            "text/plain": [
              "<Figure size 432x288 with 1 Axes>"
            ]
          },
          "metadata": {
            "tags": [],
            "needs_background": "light"
          }
        }
      ]
    },
    {
      "cell_type": "markdown",
      "metadata": {
        "id": "6y0t0T8QYcyx"
      },
      "source": [
        "###Testing"
      ]
    },
    {
      "cell_type": "code",
      "metadata": {
        "colab": {
          "base_uri": "https://localhost:8080/"
        },
        "id": "xMxoIalGYd2f",
        "outputId": "5e2a4524-050b-439a-fdec-f854beb49268"
      },
      "source": [
        "y_pred = model.predict(test_data_conv)\r\n",
        "new_pred = np.zeros(y_pred.shape[0])\r\n",
        "for i in range(y_pred.shape[0]):\r\n",
        "  new_pred[i] = np.argmax(y_pred[i])\r\n",
        "print(\"Testing Accuracy: \", sklearn.metrics.accuracy_score(y_true=y_test, y_pred=new_pred))"
      ],
      "execution_count": null,
      "outputs": [
        {
          "output_type": "stream",
          "text": [
            "Testing Accuracy:  0.8420542635658915\n"
          ],
          "name": "stdout"
        }
      ]
    },
    {
      "cell_type": "markdown",
      "metadata": {
        "id": "ikBt7PRX-mkZ"
      },
      "source": [
        "#Recurrent Neural Network"
      ]
    },
    {
      "cell_type": "markdown",
      "metadata": {
        "id": "ri8J9JIYBZSj"
      },
      "source": [
        "##Training"
      ]
    },
    {
      "cell_type": "markdown",
      "metadata": {
        "id": "druHNH_v_3O7"
      },
      "source": [
        "*Model*"
      ]
    },
    {
      "cell_type": "code",
      "metadata": {
        "colab": {
          "base_uri": "https://localhost:8080/"
        },
        "id": "G4CdgzDe-mAC",
        "outputId": "e35a249e-5f01-4e3d-e002-f9724550a3d1"
      },
      "source": [
        "model = tf.keras.Sequential([\r\n",
        "tf.keras.layers.InputLayer(input_shape=(667,60)),   \r\n",
        "tf.keras.layers.LSTM(128, return_sequences=True),\r\n",
        "tf.keras.layers.LSTM(128, dropout=0.1),\r\n",
        "tf.keras.layers.Dense(12, activation='softmax')\r\n",
        "])\r\n",
        "\r\n",
        "model.compile(optimizer = 'RMSProp',\r\n",
        "              loss = 'sparse_categorical_crossentropy',\r\n",
        "              metrics=['accuracy'])\r\n",
        "\r\n",
        "model.summary()"
      ],
      "execution_count": null,
      "outputs": [
        {
          "output_type": "stream",
          "text": [
            "Model: \"sequential_1\"\n",
            "_________________________________________________________________\n",
            "Layer (type)                 Output Shape              Param #   \n",
            "=================================================================\n",
            "lstm (LSTM)                  (None, 667, 128)          96768     \n",
            "_________________________________________________________________\n",
            "lstm_1 (LSTM)                (None, 128)               131584    \n",
            "_________________________________________________________________\n",
            "dense_2 (Dense)              (None, 12)                1548      \n",
            "=================================================================\n",
            "Total params: 229,900\n",
            "Trainable params: 229,900\n",
            "Non-trainable params: 0\n",
            "_________________________________________________________________\n"
          ],
          "name": "stdout"
        }
      ]
    },
    {
      "cell_type": "markdown",
      "metadata": {
        "id": "Om6KPZGFAAOm"
      },
      "source": [
        "*Training*"
      ]
    },
    {
      "cell_type": "code",
      "metadata": {
        "colab": {
          "base_uri": "https://localhost:8080/"
        },
        "id": "Gg95nAT-__YR",
        "outputId": "5fd091a9-80cd-4507-aeb0-0bf506e8c7f5"
      },
      "source": [
        "history = model.fit(X_train, y_train,\r\n",
        "          validation_data=(X_val, y_val),\r\n",
        "          batch_size=10,\r\n",
        "          epochs=30, shuffle=True)"
      ],
      "execution_count": null,
      "outputs": [
        {
          "output_type": "stream",
          "text": [
            "Epoch 1/30\n",
            "420/420 [==============================] - 25s 54ms/step - loss: 2.1879 - accuracy: 0.2409 - val_loss: 2.6058 - val_accuracy: 0.2006\n",
            "Epoch 2/30\n",
            "420/420 [==============================] - 22s 52ms/step - loss: 1.6021 - accuracy: 0.4491 - val_loss: 1.5730 - val_accuracy: 0.4651\n",
            "Epoch 3/30\n",
            "420/420 [==============================] - 22s 52ms/step - loss: 1.3810 - accuracy: 0.5537 - val_loss: 1.7461 - val_accuracy: 0.4351\n",
            "Epoch 4/30\n",
            "420/420 [==============================] - 22s 52ms/step - loss: 1.2074 - accuracy: 0.6064 - val_loss: 1.0223 - val_accuracy: 0.6890\n",
            "Epoch 5/30\n",
            "420/420 [==============================] - 22s 52ms/step - loss: 1.0459 - accuracy: 0.6813 - val_loss: 0.8950 - val_accuracy: 0.7297\n",
            "Epoch 6/30\n",
            "420/420 [==============================] - 23s 54ms/step - loss: 0.9316 - accuracy: 0.7202 - val_loss: 0.9548 - val_accuracy: 0.6764\n",
            "Epoch 7/30\n",
            "420/420 [==============================] - 22s 53ms/step - loss: 0.8892 - accuracy: 0.7251 - val_loss: 0.7893 - val_accuracy: 0.7548\n",
            "Epoch 8/30\n",
            "420/420 [==============================] - 23s 54ms/step - loss: 0.8206 - accuracy: 0.7478 - val_loss: 0.9353 - val_accuracy: 0.7093\n",
            "Epoch 9/30\n",
            "420/420 [==============================] - 22s 52ms/step - loss: 0.7260 - accuracy: 0.7742 - val_loss: 0.7271 - val_accuracy: 0.7839\n",
            "Epoch 10/30\n",
            "420/420 [==============================] - 22s 52ms/step - loss: 0.6389 - accuracy: 0.8040 - val_loss: 0.8068 - val_accuracy: 0.7597\n",
            "Epoch 11/30\n",
            "420/420 [==============================] - 22s 53ms/step - loss: 0.6361 - accuracy: 0.8062 - val_loss: 0.6899 - val_accuracy: 0.7994\n",
            "Epoch 12/30\n",
            "420/420 [==============================] - 22s 53ms/step - loss: 0.5902 - accuracy: 0.8093 - val_loss: 1.2962 - val_accuracy: 0.6434\n",
            "Epoch 13/30\n",
            "420/420 [==============================] - 22s 53ms/step - loss: 0.5894 - accuracy: 0.8184 - val_loss: 0.6710 - val_accuracy: 0.8072\n",
            "Epoch 14/30\n",
            "420/420 [==============================] - 22s 53ms/step - loss: 0.5589 - accuracy: 0.8277 - val_loss: 0.6696 - val_accuracy: 0.7888\n",
            "Epoch 15/30\n",
            "420/420 [==============================] - 22s 53ms/step - loss: 0.5147 - accuracy: 0.8411 - val_loss: 0.6008 - val_accuracy: 0.8227\n",
            "Epoch 16/30\n",
            "420/420 [==============================] - 22s 53ms/step - loss: 0.4253 - accuracy: 0.8636 - val_loss: 0.8576 - val_accuracy: 0.7597\n",
            "Epoch 17/30\n",
            "420/420 [==============================] - 22s 53ms/step - loss: 0.4645 - accuracy: 0.8565 - val_loss: 0.4525 - val_accuracy: 0.8672\n",
            "Epoch 18/30\n",
            "420/420 [==============================] - 22s 53ms/step - loss: 0.4519 - accuracy: 0.8618 - val_loss: 0.6174 - val_accuracy: 0.8236\n",
            "Epoch 19/30\n",
            "420/420 [==============================] - 22s 53ms/step - loss: 0.4179 - accuracy: 0.8751 - val_loss: 0.6532 - val_accuracy: 0.7975\n",
            "Epoch 20/30\n",
            "420/420 [==============================] - 22s 53ms/step - loss: 0.4032 - accuracy: 0.8747 - val_loss: 0.5124 - val_accuracy: 0.8498\n",
            "Epoch 21/30\n",
            "420/420 [==============================] - 22s 52ms/step - loss: 0.4000 - accuracy: 0.8761 - val_loss: 0.8123 - val_accuracy: 0.7597\n",
            "Epoch 22/30\n",
            "420/420 [==============================] - 22s 53ms/step - loss: 0.7066 - accuracy: 0.7909 - val_loss: 0.5426 - val_accuracy: 0.8266\n",
            "Epoch 23/30\n",
            "420/420 [==============================] - 22s 52ms/step - loss: 0.4544 - accuracy: 0.8585 - val_loss: 0.6305 - val_accuracy: 0.8333\n",
            "Epoch 24/30\n",
            "420/420 [==============================] - 22s 52ms/step - loss: 0.4239 - accuracy: 0.8631 - val_loss: 0.7732 - val_accuracy: 0.7548\n",
            "Epoch 25/30\n",
            "420/420 [==============================] - 22s 53ms/step - loss: 0.4064 - accuracy: 0.8768 - val_loss: 0.5059 - val_accuracy: 0.8614\n",
            "Epoch 26/30\n",
            "420/420 [==============================] - 22s 52ms/step - loss: 0.3633 - accuracy: 0.8864 - val_loss: 0.5903 - val_accuracy: 0.8324\n",
            "Epoch 27/30\n",
            "420/420 [==============================] - 22s 53ms/step - loss: 0.3740 - accuracy: 0.8790 - val_loss: 0.4456 - val_accuracy: 0.8702\n",
            "Epoch 28/30\n",
            "420/420 [==============================] - 22s 53ms/step - loss: 0.2999 - accuracy: 0.9106 - val_loss: 0.4575 - val_accuracy: 0.8643\n",
            "Epoch 29/30\n",
            "420/420 [==============================] - 22s 53ms/step - loss: 0.3447 - accuracy: 0.9014 - val_loss: 0.4705 - val_accuracy: 0.8769\n",
            "Epoch 30/30\n",
            "420/420 [==============================] - 22s 53ms/step - loss: 0.2906 - accuracy: 0.9082 - val_loss: 0.4216 - val_accuracy: 0.8847\n"
          ],
          "name": "stdout"
        }
      ]
    },
    {
      "cell_type": "markdown",
      "metadata": {
        "id": "kqeb4Ln_A6jy"
      },
      "source": [
        "###Analysis"
      ]
    },
    {
      "cell_type": "code",
      "metadata": {
        "colab": {
          "base_uri": "https://localhost:8080/",
          "height": 295
        },
        "id": "7Ude2W-OA4JD",
        "outputId": "cdc96a27-e14c-4a8d-a826-ab6b329ce872"
      },
      "source": [
        "plt.plot(history.history[\"loss\"])\r\n",
        "plt.plot(history.history[\"val_loss\"])\r\n",
        "plt.title(\"model loss\")\r\n",
        "plt.ylabel(\"loss\")\r\n",
        "plt.xlabel(\"epoch\")\r\n",
        "plt.legend([\"train\", \"test\"], loc=\"upper left\")\r\n",
        "plt.show()"
      ],
      "execution_count": null,
      "outputs": [
        {
          "output_type": "display_data",
          "data": {
            "image/png": "[encoded data removed]",
            "text/plain": [
              "<Figure size 432x288 with 1 Axes>"
            ]
          },
          "metadata": {
            "tags": [],
            "needs_background": "light"
          }
        }
      ]
    },
    {
      "cell_type": "code",
      "metadata": {
        "colab": {
          "base_uri": "https://localhost:8080/",
          "height": 295
        },
        "id": "tl1sxVEiAuXy",
        "outputId": "9a52c871-c545-48df-ddcc-26736ac7bbed"
      },
      "source": [
        "plt.plot(history.history[\"accuracy\"])\r\n",
        "plt.plot(history.history[\"val_accuracy\"])\r\n",
        "plt.title(\"model accuracy\")\r\n",
        "plt.ylabel(\"accuracy\")\r\n",
        "plt.xlabel(\"epoch\")\r\n",
        "plt.legend([\"train\", \"test\"], loc=\"upper left\")\r\n",
        "plt.show()"
      ],
      "execution_count": null,
      "outputs": [
        {
          "output_type": "display_data",
          "data": {
            "image/png": "[encoded data removed]",
            "text/plain": [
              "<Figure size 432x288 with 1 Axes>"
            ]
          },
          "metadata": {
            "tags": [],
            "needs_background": "light"
          }
        }
      ]
    },
    {
      "cell_type": "markdown",
      "metadata": {
        "id": "MW8mL4uqBNnn"
      },
      "source": [
        "###Testing"
      ]
    },
    {
      "cell_type": "code",
      "metadata": {
        "colab": {
          "base_uri": "https://localhost:8080/"
        },
        "id": "QsW_mNlOBPfz",
        "outputId": "f01a4e3d-b276-49a5-a374-2ac403a7ff2a"
      },
      "source": [
        "y_pred = model.predict(X_test)\r\n",
        "new_pred = np.zeros(y_pred.shape[0])\r\n",
        "for i in range(y_pred.shape[0]):\r\n",
        "  new_pred[i] = np.argmax(y_pred[i])\r\n",
        "print(\"Testing Accuracy: \", sklearn.metrics.accuracy_score(y_true=y_test, y_pred=new_pred))"
      ],
      "execution_count": null,
      "outputs": [
        {
          "output_type": "stream",
          "text": [
            "Testing Accuracy:  0.8914728682170543\n"
          ],
          "name": "stdout"
        }
      ]
    }
  ]
}