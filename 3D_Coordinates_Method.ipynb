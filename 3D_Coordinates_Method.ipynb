{
  "nbformat": 4,
  "nbformat_minor": 0,
  "metadata": {
    "colab": {
      "name": "3D Coordinates Method.ipynb",
      "provenance": [],
      "mount_file_id": "1aCvUyvK-ltBYB_Apa-L-kTmmEL-azMWM",
      "authorship_tag": "ABX9TyOwTNXOf3ZRbxR2A2c9ATQD",
      "include_colab_link": true
    },
    "kernelspec": {
      "name": "python3",
      "display_name": "Python 3"
    },
    "accelerator": "GPU"
  },
  "cells": [
    {
      "cell_type": "markdown",
      "metadata": {
        "id": "view-in-github",
        "colab_type": "text"
      },
      "source": [
        "<a href=\"https://colab.research.google.com/github/juliaschubertpeixoto/TCC/blob/main/3D_Coordinates_Method.ipynb\" target=\"_parent\"><img src=\"https://colab.research.google.com/assets/colab-badge.svg\" alt=\"Open In Colab\"/></a>"
      ]
    },
    {
      "cell_type": "markdown",
      "metadata": {
        "id": "0Gt7Z3lxGpAH"
      },
      "source": [
        "#Libraries\r\n"
      ]
    },
    {
      "cell_type": "code",
      "metadata": {
        "id": "zlg2-8759jcV"
      },
      "source": [
        "from matplotlib import pyplot as plt\r\n",
        "import numpy as np\r\n",
        "import os\r\n",
        "import sklearn\r\n",
        "from sklearn.model_selection import train_test_split\r\n",
        "from sklearn.preprocessing import StandardScaler, MaxAbsScaler, MinMaxScaler\r\n",
        "from sklearn.utils import shuffle\r\n",
        "import tensorflow as tf \r\n",
        "from tensorflow.keras import datasets, layers, models"
      ],
      "execution_count": null,
      "outputs": []
    },
    {
      "cell_type": "markdown",
      "metadata": {
        "id": "NWqXpN3DPrUB"
      },
      "source": [
        "#Data Processing"
      ]
    },
    {
      "cell_type": "markdown",
      "metadata": {
        "id": "SyMUE8WzGo6U"
      },
      "source": [
        "##Load Data"
      ]
    },
    {
      "cell_type": "code",
      "metadata": {
        "colab": {
          "base_uri": "https://localhost:8080/"
        },
        "id": "7iKD6-EUHYbM",
        "outputId": "fd46b194-1f04-430a-a1f6-c3f67df97506"
      },
      "source": [
        "path = '/content/drive/MyDrive/[TCC] Final Version/MSRC-12 Dataset/3D Coordinates Method/'\r\n",
        "os.chdir(path)\r\n",
        "X_train = np.load('train_data.npy' ).astype(np.float32)\r\n",
        "y_train = np.load('train_tag.npy' ).astype(np.int32)\r\n",
        "X_val = np.load('eval_data.npy' ).astype(np.float32)\r\n",
        "y_val = np.load('eval_tag.npy' ).astype(np.int32)\r\n",
        "print(\"Data imported successfuly!\")"
      ],
      "execution_count": null,
      "outputs": [
        {
          "output_type": "stream",
          "text": [
            "Data imported successfuly!\n"
          ],
          "name": "stdout"
        }
      ]
    },
    {
      "cell_type": "markdown",
      "metadata": {
        "id": "9UvKV5PZJ7lM"
      },
      "source": [
        "##Split Data"
      ]
    },
    {
      "cell_type": "code",
      "metadata": {
        "colab": {
          "base_uri": "https://localhost:8080/"
        },
        "id": "8zMZdGkGJs77",
        "outputId": "7ad04290-e919-4b1c-b906-ae6c0a6f48b7"
      },
      "source": [
        "X_val, X_test, y_val, y_test = train_test_split(X_val, y_val, test_size=0.50, random_state=42)\r\n",
        "print(\"Data splited successfuly!\")\r\n",
        "print(\" \")\r\n",
        "print(\"Number of samples on training set:\", y_train.shape[0])\r\n",
        "print(\"Number of samples on validation set:\", y_val.shape[0])\r\n",
        "print(\"Number of samples on test set:\", y_test.shape[0] )"
      ],
      "execution_count": null,
      "outputs": [
        {
          "output_type": "stream",
          "text": [
            "Data splited successfuly!\n",
            " \n",
            "Number of samples on training set: 4192\n",
            "Number of samples on validation set: 1032\n",
            "Number of samples on test set: 1032\n"
          ],
          "name": "stdout"
        }
      ]
    },
    {
      "cell_type": "markdown",
      "metadata": {
        "id": "mRxlQO96Kkri"
      },
      "source": [
        "##Normalize data"
      ]
    },
    {
      "cell_type": "code",
      "metadata": {
        "colab": {
          "base_uri": "https://localhost:8080/"
        },
        "id": "zdOLmrK4KOF0",
        "outputId": "c4e45da0-113d-40db-fc2f-a8db89d3616c"
      },
      "source": [
        "new_train_data = tf.reshape(X_train, (-1,667*80)) \r\n",
        "n = MaxAbsScaler() \r\n",
        "n.fit(new_train_data)\r\n",
        "newN = n.transform(new_train_data)\r\n",
        "X_train = tf.reshape(newN, (-1,667,80))\r\n",
        "print(\"Data normalized successfuly!\")"
      ],
      "execution_count": null,
      "outputs": [
        {
          "output_type": "stream",
          "text": [
            "Data normalized successfuly!\n"
          ],
          "name": "stdout"
        }
      ]
    },
    {
      "cell_type": "code",
      "metadata": {
        "colab": {
          "base_uri": "https://localhost:8080/"
        },
        "id": "Dg4owTkPM7Ts",
        "outputId": "8a8a86c9-9dfc-49e3-e53b-dca458ab8bc4"
      },
      "source": [
        "new_train_data = tf.reshape(X_val, (-1,667*80)) \r\n",
        "n = MaxAbsScaler() \r\n",
        "n.fit(new_train_data)\r\n",
        "newN = n.transform(new_train_data)\r\n",
        "X_val = tf.reshape(newN, (-1,667,80))\r\n",
        "print(\"Data normalized successfuly!\")"
      ],
      "execution_count": null,
      "outputs": [
        {
          "output_type": "stream",
          "text": [
            "Data normalized successfuly!\n"
          ],
          "name": "stdout"
        }
      ]
    },
    {
      "cell_type": "code",
      "metadata": {
        "colab": {
          "base_uri": "https://localhost:8080/"
        },
        "id": "gAGw2I9jVDON",
        "outputId": "8a2cf60c-8053-4093-ff3e-d6f5032692f8"
      },
      "source": [
        "new_train_data = tf.reshape(X_test, (-1,667*80)) \r\n",
        "n = MaxAbsScaler() \r\n",
        "n.fit(new_train_data)\r\n",
        "newN = n.transform(new_train_data)\r\n",
        "X_test = tf.reshape(newN, (-1,667,80))\r\n",
        "print(\"Data normalized successfuly!\")"
      ],
      "execution_count": null,
      "outputs": [
        {
          "output_type": "stream",
          "text": [
            "Data normalized successfuly!\n"
          ],
          "name": "stdout"
        }
      ]
    },
    {
      "cell_type": "markdown",
      "metadata": {
        "id": "G_mqdMQVRDfz"
      },
      "source": [
        "##Reshape Data"
      ]
    },
    {
      "cell_type": "code",
      "metadata": {
        "colab": {
          "base_uri": "https://localhost:8080/"
        },
        "id": "8wSNw5ToRC_N",
        "outputId": "136b4e77-46fb-416e-c8ec-baa7317ddad6"
      },
      "source": [
        "train_data_conv = tf.reshape(X_train, (-1,667,80,1))\r\n",
        "val_data_conv = tf.reshape(X_val, (-1,667,80,1))\r\n",
        "test_data_conv = tf.reshape(X_test, (-1,667,80,1))\r\n",
        "print(\"Data reshaped successfuly!\")"
      ],
      "execution_count": null,
      "outputs": [
        {
          "output_type": "stream",
          "text": [
            "Data reshaped successfuly!\n"
          ],
          "name": "stdout"
        }
      ]
    },
    {
      "cell_type": "markdown",
      "metadata": {
        "id": "iv-KT3ELP70A"
      },
      "source": [
        "#Convolutional Neural Network"
      ]
    },
    {
      "cell_type": "markdown",
      "metadata": {
        "id": "dXXegdl2P0kh"
      },
      "source": [
        "##Training"
      ]
    },
    {
      "cell_type": "markdown",
      "metadata": {
        "id": "FF4vLXFFQsmd"
      },
      "source": [
        "*Proposed Model*"
      ]
    },
    {
      "cell_type": "code",
      "metadata": {
        "colab": {
          "base_uri": "https://localhost:8080/"
        },
        "id": "T_RD0YRfNuAL",
        "outputId": "d65a5efc-06bd-4051-e549-f4d1969e0266"
      },
      "source": [
        "model = models.Sequential()\r\n",
        "model.add(layers.Input(shape=(667,80,1)))\r\n",
        "model.add(layers.Conv2D(16, (3, 3), activation='relu', padding='same'))\r\n",
        "model.add(layers.MaxPooling2D((3, 3), strides=3))\r\n",
        "model.add(layers.Conv2D(32, (3, 3), activation='relu', padding='same'))\r\n",
        "model.add(layers.MaxPooling2D((3, 3), strides=3))\r\n",
        "model.add(layers.Conv2D(64, (3, 3), activation='relu', padding='same'))\r\n",
        "model.add(layers.MaxPooling2D((2,2), strides=2))\r\n",
        "model.add(layers.Flatten())\r\n",
        "model.add(layers.Dense(units=7104, activation='relu'))\r\n",
        "model.add(layers.Dropout(0.4))\r\n",
        "model.add(layers.Dense(units=12, activation='softmax'))\r\n",
        "model.summary()\r\n",
        "\r\n",
        "model.compile(optimizer='Adam',\r\n",
        "              loss='sparse_categorical_crossentropy',\r\n",
        "              metrics=['accuracy'])"
      ],
      "execution_count": null,
      "outputs": [
        {
          "output_type": "stream",
          "text": [
            "Model: \"sequential\"\n",
            "_________________________________________________________________\n",
            "Layer (type)                 Output Shape              Param #   \n",
            "=================================================================\n",
            "conv2d (Conv2D)              (None, 667, 80, 16)       160       \n",
            "_________________________________________________________________\n",
            "max_pooling2d (MaxPooling2D) (None, 222, 26, 16)       0         \n",
            "_________________________________________________________________\n",
            "conv2d_1 (Conv2D)            (None, 222, 26, 32)       4640      \n",
            "_________________________________________________________________\n",
            "max_pooling2d_1 (MaxPooling2 (None, 74, 8, 32)         0         \n",
            "_________________________________________________________________\n",
            "conv2d_2 (Conv2D)            (None, 74, 8, 64)         18496     \n",
            "_________________________________________________________________\n",
            "max_pooling2d_2 (MaxPooling2 (None, 37, 4, 64)         0         \n",
            "_________________________________________________________________\n",
            "flatten (Flatten)            (None, 9472)              0         \n",
            "_________________________________________________________________\n",
            "dense (Dense)                (None, 7104)              67296192  \n",
            "_________________________________________________________________\n",
            "dropout (Dropout)            (None, 7104)              0         \n",
            "_________________________________________________________________\n",
            "dense_1 (Dense)              (None, 12)                85260     \n",
            "=================================================================\n",
            "Total params: 67,404,748\n",
            "Trainable params: 67,404,748\n",
            "Non-trainable params: 0\n",
            "_________________________________________________________________\n"
          ],
          "name": "stdout"
        }
      ]
    },
    {
      "cell_type": "markdown",
      "metadata": {
        "id": "iPBdpSwjQ8Dw"
      },
      "source": [
        "*Training*"
      ]
    },
    {
      "cell_type": "code",
      "metadata": {
        "colab": {
          "base_uri": "https://localhost:8080/"
        },
        "id": "iST1d_JzQ7C-",
        "outputId": "da8ef8fa-be29-4504-b6fe-e164325739b0"
      },
      "source": [
        "history = model.fit(train_data_conv, y_train,\r\n",
        "          validation_data=(val_data_conv, y_val),\r\n",
        "          batch_size=10,\r\n",
        "          epochs=30, shuffle=True)"
      ],
      "execution_count": null,
      "outputs": [
        {
          "output_type": "stream",
          "text": [
            "Epoch 1/30\n",
            "420/420 [==============================] - 18s 25ms/step - loss: 2.6852 - accuracy: 0.1048 - val_loss: 2.4281 - val_accuracy: 0.1037\n",
            "Epoch 2/30\n",
            "420/420 [==============================] - 10s 23ms/step - loss: 2.2675 - accuracy: 0.1685 - val_loss: 2.2328 - val_accuracy: 0.1841\n",
            "Epoch 3/30\n",
            "420/420 [==============================] - 10s 23ms/step - loss: 2.1768 - accuracy: 0.2173 - val_loss: 2.1116 - val_accuracy: 0.2267\n",
            "Epoch 4/30\n",
            "420/420 [==============================] - 10s 23ms/step - loss: 2.1064 - accuracy: 0.2230 - val_loss: 1.8505 - val_accuracy: 0.3266\n",
            "Epoch 5/30\n",
            "420/420 [==============================] - 10s 23ms/step - loss: 1.7666 - accuracy: 0.3609 - val_loss: 1.5674 - val_accuracy: 0.4186\n",
            "Epoch 6/30\n",
            "420/420 [==============================] - 10s 23ms/step - loss: 1.4471 - accuracy: 0.4722 - val_loss: 1.3603 - val_accuracy: 0.5300\n",
            "Epoch 7/30\n",
            "420/420 [==============================] - 10s 23ms/step - loss: 1.2190 - accuracy: 0.5633 - val_loss: 1.1313 - val_accuracy: 0.6182\n",
            "Epoch 8/30\n",
            "420/420 [==============================] - 10s 23ms/step - loss: 0.9736 - accuracy: 0.6609 - val_loss: 1.1791 - val_accuracy: 0.6153\n",
            "Epoch 9/30\n",
            "420/420 [==============================] - 10s 23ms/step - loss: 0.8699 - accuracy: 0.6841 - val_loss: 1.1126 - val_accuracy: 0.6492\n",
            "Epoch 10/30\n",
            "420/420 [==============================] - 10s 24ms/step - loss: 0.6902 - accuracy: 0.7676 - val_loss: 1.1548 - val_accuracy: 0.6521\n",
            "Epoch 11/30\n",
            "420/420 [==============================] - 10s 24ms/step - loss: 0.6160 - accuracy: 0.7872 - val_loss: 0.9130 - val_accuracy: 0.7306\n",
            "Epoch 12/30\n",
            "420/420 [==============================] - 10s 24ms/step - loss: 0.4946 - accuracy: 0.8282 - val_loss: 0.8924 - val_accuracy: 0.7510\n",
            "Epoch 13/30\n",
            "420/420 [==============================] - 10s 24ms/step - loss: 0.4146 - accuracy: 0.8584 - val_loss: 0.8701 - val_accuracy: 0.7733\n",
            "Epoch 14/30\n",
            "420/420 [==============================] - 10s 24ms/step - loss: 0.3876 - accuracy: 0.8776 - val_loss: 0.9075 - val_accuracy: 0.7839\n",
            "Epoch 15/30\n",
            "420/420 [==============================] - 10s 24ms/step - loss: 0.3260 - accuracy: 0.8918 - val_loss: 0.9417 - val_accuracy: 0.8014\n",
            "Epoch 16/30\n",
            "420/420 [==============================] - 10s 24ms/step - loss: 0.2696 - accuracy: 0.9123 - val_loss: 0.9257 - val_accuracy: 0.8130\n",
            "Epoch 17/30\n",
            "420/420 [==============================] - 10s 24ms/step - loss: 0.2486 - accuracy: 0.9248 - val_loss: 0.9369 - val_accuracy: 0.8149\n",
            "Epoch 18/30\n",
            "420/420 [==============================] - 10s 24ms/step - loss: 0.2419 - accuracy: 0.9292 - val_loss: 0.9407 - val_accuracy: 0.8333\n",
            "Epoch 19/30\n",
            "420/420 [==============================] - 10s 24ms/step - loss: 0.2062 - accuracy: 0.9329 - val_loss: 1.0129 - val_accuracy: 0.8110\n",
            "Epoch 20/30\n",
            "420/420 [==============================] - 10s 24ms/step - loss: 0.1763 - accuracy: 0.9435 - val_loss: 1.0095 - val_accuracy: 0.8014\n",
            "Epoch 21/30\n",
            "420/420 [==============================] - 10s 24ms/step - loss: 0.2817 - accuracy: 0.9049 - val_loss: 1.0333 - val_accuracy: 0.8188\n",
            "Epoch 22/30\n",
            "420/420 [==============================] - 10s 24ms/step - loss: 0.1713 - accuracy: 0.9508 - val_loss: 1.7110 - val_accuracy: 0.8014\n",
            "Epoch 23/30\n",
            "420/420 [==============================] - 10s 24ms/step - loss: 0.1892 - accuracy: 0.9453 - val_loss: 0.9062 - val_accuracy: 0.8362\n",
            "Epoch 24/30\n",
            "420/420 [==============================] - 10s 24ms/step - loss: 0.1536 - accuracy: 0.9516 - val_loss: 1.1298 - val_accuracy: 0.8188\n",
            "Epoch 25/30\n",
            "420/420 [==============================] - 10s 24ms/step - loss: 0.1715 - accuracy: 0.9438 - val_loss: 1.1558 - val_accuracy: 0.8527\n",
            "Epoch 26/30\n",
            "420/420 [==============================] - 10s 24ms/step - loss: 0.1379 - accuracy: 0.9565 - val_loss: 1.0759 - val_accuracy: 0.8343\n",
            "Epoch 27/30\n",
            "420/420 [==============================] - 10s 24ms/step - loss: 0.1206 - accuracy: 0.9667 - val_loss: 1.2614 - val_accuracy: 0.8198\n",
            "Epoch 28/30\n",
            "420/420 [==============================] - 10s 24ms/step - loss: 0.1422 - accuracy: 0.9509 - val_loss: 1.4584 - val_accuracy: 0.8217\n",
            "Epoch 29/30\n",
            "420/420 [==============================] - 10s 24ms/step - loss: 0.1410 - accuracy: 0.9551 - val_loss: 1.1990 - val_accuracy: 0.8353\n",
            "Epoch 30/30\n",
            "420/420 [==============================] - 10s 24ms/step - loss: 0.1306 - accuracy: 0.9581 - val_loss: 1.3393 - val_accuracy: 0.8198\n"
          ],
          "name": "stdout"
        }
      ]
    },
    {
      "cell_type": "markdown",
      "metadata": {
        "id": "rNy2QplIYRUl"
      },
      "source": [
        "###Analysis"
      ]
    },
    {
      "cell_type": "code",
      "metadata": {
        "colab": {
          "base_uri": "https://localhost:8080/",
          "height": 295
        },
        "id": "hN2s_EBeV5Zi",
        "outputId": "3f0b62e0-e8be-4869-bedc-deadb4549f76"
      },
      "source": [
        "plt.plot(history.history[\"loss\"])\r\n",
        "plt.plot(history.history[\"val_loss\"])\r\n",
        "plt.title(\"model loss\")\r\n",
        "plt.ylabel(\"loss\")\r\n",
        "plt.xlabel(\"epoch\")\r\n",
        "plt.legend([\"train\", \"test\"], loc=\"upper left\")\r\n",
        "plt.show()"
      ],
      "execution_count": null,
      "outputs": [
        {
          "output_type": "display_data",
          "data": {
            "image/png": "[encoded data removed]",
            "text/plain": [
              "<Figure size 432x288 with 1 Axes>"
            ]
          },
          "metadata": {
            "tags": [],
            "needs_background": "light"
          }
        }
      ]
    },
    {
      "cell_type": "code",
      "metadata": {
        "colab": {
          "base_uri": "https://localhost:8080/",
          "height": 295
        },
        "id": "Mhfy-MWmXb-P",
        "outputId": "8eff8ec6-f30a-4eb4-93d6-adad17318196"
      },
      "source": [
        "plt.plot(history.history[\"accuracy\"])\r\n",
        "plt.plot(history.history[\"val_accuracy\"])\r\n",
        "plt.title(\"model accuracy\")\r\n",
        "plt.ylabel(\"accuracy\")\r\n",
        "plt.xlabel(\"epoch\")\r\n",
        "plt.legend([\"train\", \"test\"], loc=\"upper left\")\r\n",
        "plt.show()"
      ],
      "execution_count": null,
      "outputs": [
        {
          "output_type": "display_data",
          "data": {
            "image/png": "[encoded data removed]",
            "text/plain": [
              "<Figure size 432x288 with 1 Axes>"
            ]
          },
          "metadata": {
            "tags": [],
            "needs_background": "light"
          }
        }
      ]
    },
    {
      "cell_type": "markdown",
      "metadata": {
        "id": "6y0t0T8QYcyx"
      },
      "source": [
        "###Testing"
      ]
    },
    {
      "cell_type": "code",
      "metadata": {
        "colab": {
          "base_uri": "https://localhost:8080/"
        },
        "id": "xMxoIalGYd2f",
        "outputId": "b2c5ba04-a90d-4645-be02-670187faa809"
      },
      "source": [
        "y_pred = model.predict(test_data_conv)\r\n",
        "new_pred = np.zeros(y_pred.shape[0])\r\n",
        "for i in range(y_pred.shape[0]):\r\n",
        "  new_pred[i] = np.argmax(y_pred[i])\r\n",
        "print(\"Testing Accuracy: \", sklearn.metrics.accuracy_score(y_true=y_test, y_pred=new_pred))"
      ],
      "execution_count": null,
      "outputs": [
        {
          "output_type": "stream",
          "text": [
            "Testing Accuracy:  0.8236434108527132\n"
          ],
          "name": "stdout"
        }
      ]
    },
    {
      "cell_type": "markdown",
      "metadata": {
        "id": "ikBt7PRX-mkZ"
      },
      "source": [
        "#Recurrent Neural Network"
      ]
    },
    {
      "cell_type": "markdown",
      "metadata": {
        "id": "ri8J9JIYBZSj"
      },
      "source": [
        "##Training"
      ]
    },
    {
      "cell_type": "markdown",
      "metadata": {
        "id": "druHNH_v_3O7"
      },
      "source": [
        "*Model*"
      ]
    },
    {
      "cell_type": "code",
      "metadata": {
        "colab": {
          "base_uri": "https://localhost:8080/"
        },
        "id": "G4CdgzDe-mAC",
        "outputId": "e9fb0b91-69d4-4079-cb17-9cb8c1968f9c"
      },
      "source": [
        "model = tf.keras.Sequential([\r\n",
        "tf.keras.layers.InputLayer(input_shape=(667,80)),   \r\n",
        "tf.keras.layers.LSTM(128, return_sequences=True),\r\n",
        "tf.keras.layers.LSTM(128, dropout=0.1),\r\n",
        "tf.keras.layers.Dense(12, activation='softmax')\r\n",
        "])\r\n",
        "\r\n",
        "model.compile(optimizer = 'RMSProp',\r\n",
        "              loss = 'sparse_categorical_crossentropy',\r\n",
        "              metrics=['accuracy'])\r\n",
        "\r\n",
        "model.summary()"
      ],
      "execution_count": null,
      "outputs": [
        {
          "output_type": "stream",
          "text": [
            "Model: \"sequential_1\"\n",
            "_________________________________________________________________\n",
            "Layer (type)                 Output Shape              Param #   \n",
            "=================================================================\n",
            "lstm (LSTM)                  (None, 667, 128)          107008    \n",
            "_________________________________________________________________\n",
            "lstm_1 (LSTM)                (None, 128)               131584    \n",
            "_________________________________________________________________\n",
            "dense_2 (Dense)              (None, 12)                1548      \n",
            "=================================================================\n",
            "Total params: 240,140\n",
            "Trainable params: 240,140\n",
            "Non-trainable params: 0\n",
            "_________________________________________________________________\n"
          ],
          "name": "stdout"
        }
      ]
    },
    {
      "cell_type": "markdown",
      "metadata": {
        "id": "Om6KPZGFAAOm"
      },
      "source": [
        "*Training*"
      ]
    },
    {
      "cell_type": "code",
      "metadata": {
        "colab": {
          "base_uri": "https://localhost:8080/"
        },
        "id": "Gg95nAT-__YR",
        "outputId": "c6332980-bc94-4316-8206-3cd2fc126f47"
      },
      "source": [
        "history = model.fit(X_train, y_train,\r\n",
        "          validation_data=(X_val, y_val),\r\n",
        "          batch_size=10,\r\n",
        "          epochs=30, shuffle=True)"
      ],
      "execution_count": null,
      "outputs": [
        {
          "output_type": "stream",
          "text": [
            "Epoch 1/30\n",
            "420/420 [==============================] - 26s 56ms/step - loss: 2.3027 - accuracy: 0.1799 - val_loss: 2.1159 - val_accuracy: 0.2558\n",
            "Epoch 2/30\n",
            "420/420 [==============================] - 23s 54ms/step - loss: 1.7690 - accuracy: 0.3624 - val_loss: 2.0174 - val_accuracy: 0.2607\n",
            "Epoch 3/30\n",
            "420/420 [==============================] - 23s 54ms/step - loss: 1.6706 - accuracy: 0.4022 - val_loss: 1.8031 - val_accuracy: 0.4167\n",
            "Epoch 4/30\n",
            "420/420 [==============================] - 23s 54ms/step - loss: 1.4251 - accuracy: 0.5033 - val_loss: 1.8342 - val_accuracy: 0.3808\n",
            "Epoch 5/30\n",
            "420/420 [==============================] - 23s 54ms/step - loss: 1.3795 - accuracy: 0.5203 - val_loss: 1.7888 - val_accuracy: 0.4457\n",
            "Epoch 6/30\n",
            "420/420 [==============================] - 23s 54ms/step - loss: 1.2535 - accuracy: 0.5916 - val_loss: 1.2349 - val_accuracy: 0.5669\n",
            "Epoch 7/30\n",
            "420/420 [==============================] - 22s 53ms/step - loss: 1.0338 - accuracy: 0.6608 - val_loss: 1.2467 - val_accuracy: 0.5959\n",
            "Epoch 8/30\n",
            "420/420 [==============================] - 22s 53ms/step - loss: 0.9968 - accuracy: 0.6692 - val_loss: 2.7320 - val_accuracy: 0.3401\n",
            "Epoch 9/30\n",
            "420/420 [==============================] - 22s 53ms/step - loss: 0.9845 - accuracy: 0.6942 - val_loss: 1.2151 - val_accuracy: 0.5930\n",
            "Epoch 10/30\n",
            "420/420 [==============================] - 22s 53ms/step - loss: 0.8387 - accuracy: 0.7283 - val_loss: 0.6852 - val_accuracy: 0.7936\n",
            "Epoch 11/30\n",
            "420/420 [==============================] - 22s 53ms/step - loss: 0.7583 - accuracy: 0.7625 - val_loss: 0.7702 - val_accuracy: 0.7490\n",
            "Epoch 12/30\n",
            "420/420 [==============================] - 22s 53ms/step - loss: 0.7342 - accuracy: 0.7658 - val_loss: 0.7629 - val_accuracy: 0.7703\n",
            "Epoch 13/30\n",
            "420/420 [==============================] - 22s 53ms/step - loss: 0.6813 - accuracy: 0.7887 - val_loss: 0.7961 - val_accuracy: 0.7277\n",
            "Epoch 14/30\n",
            "420/420 [==============================] - 22s 53ms/step - loss: 0.6885 - accuracy: 0.7792 - val_loss: 0.7107 - val_accuracy: 0.7645\n",
            "Epoch 15/30\n",
            "420/420 [==============================] - 22s 53ms/step - loss: 0.7410 - accuracy: 0.7769 - val_loss: 0.9013 - val_accuracy: 0.7326\n",
            "Epoch 16/30\n",
            "420/420 [==============================] - 22s 53ms/step - loss: 0.7344 - accuracy: 0.7729 - val_loss: 1.3120 - val_accuracy: 0.6231\n",
            "Epoch 17/30\n",
            "420/420 [==============================] - 22s 53ms/step - loss: 0.6782 - accuracy: 0.7926 - val_loss: 0.6935 - val_accuracy: 0.8072\n",
            "Epoch 18/30\n",
            "420/420 [==============================] - 22s 53ms/step - loss: 0.6123 - accuracy: 0.8225 - val_loss: 0.6004 - val_accuracy: 0.8140\n",
            "Epoch 19/30\n",
            "420/420 [==============================] - 22s 53ms/step - loss: 0.5496 - accuracy: 0.8304 - val_loss: 0.6850 - val_accuracy: 0.7984\n",
            "Epoch 20/30\n",
            "420/420 [==============================] - 22s 53ms/step - loss: 0.5108 - accuracy: 0.8498 - val_loss: 0.5409 - val_accuracy: 0.8314\n",
            "Epoch 21/30\n",
            "420/420 [==============================] - 22s 53ms/step - loss: 0.4896 - accuracy: 0.8539 - val_loss: 0.6126 - val_accuracy: 0.8256\n",
            "Epoch 22/30\n",
            "420/420 [==============================] - 22s 53ms/step - loss: 0.4901 - accuracy: 0.8550 - val_loss: 0.4950 - val_accuracy: 0.8556\n",
            "Epoch 23/30\n",
            "420/420 [==============================] - 22s 53ms/step - loss: 0.4094 - accuracy: 0.8727 - val_loss: 0.5915 - val_accuracy: 0.8236\n",
            "Epoch 24/30\n",
            "420/420 [==============================] - 22s 53ms/step - loss: 0.4459 - accuracy: 0.8601 - val_loss: 0.6541 - val_accuracy: 0.8236\n",
            "Epoch 25/30\n",
            "420/420 [==============================] - 22s 53ms/step - loss: 0.4333 - accuracy: 0.8677 - val_loss: 0.4745 - val_accuracy: 0.8624\n",
            "Epoch 26/30\n",
            "420/420 [==============================] - 22s 53ms/step - loss: 0.4338 - accuracy: 0.8676 - val_loss: 0.4571 - val_accuracy: 0.8624\n",
            "Epoch 27/30\n",
            "420/420 [==============================] - 22s 53ms/step - loss: 0.3372 - accuracy: 0.8998 - val_loss: 0.5018 - val_accuracy: 0.8547\n",
            "Epoch 28/30\n",
            "420/420 [==============================] - 22s 53ms/step - loss: 0.3673 - accuracy: 0.8873 - val_loss: 0.6986 - val_accuracy: 0.7820\n",
            "Epoch 29/30\n",
            "420/420 [==============================] - 22s 53ms/step - loss: 0.5106 - accuracy: 0.8472 - val_loss: 0.5762 - val_accuracy: 0.8324\n",
            "Epoch 30/30\n",
            "420/420 [==============================] - 22s 53ms/step - loss: 0.3704 - accuracy: 0.8869 - val_loss: 0.4945 - val_accuracy: 0.8547\n"
          ],
          "name": "stdout"
        }
      ]
    },
    {
      "cell_type": "markdown",
      "metadata": {
        "id": "kqeb4Ln_A6jy"
      },
      "source": [
        "###Analysis"
      ]
    },
    {
      "cell_type": "code",
      "metadata": {
        "colab": {
          "base_uri": "https://localhost:8080/",
          "height": 295
        },
        "id": "7Ude2W-OA4JD",
        "outputId": "8e6d0f95-52d6-4f1c-bd62-f083f6e567d1"
      },
      "source": [
        "plt.plot(history.history[\"loss\"])\r\n",
        "plt.plot(history.history[\"val_loss\"])\r\n",
        "plt.title(\"model loss\")\r\n",
        "plt.ylabel(\"loss\")\r\n",
        "plt.xlabel(\"epoch\")\r\n",
        "plt.legend([\"train\", \"test\"], loc=\"upper left\")\r\n",
        "plt.show()"
      ],
      "execution_count": null,
      "outputs": [
        {
          "output_type": "display_data",
          "data": {
            "image/png": "[encoded data removed]",
            "text/plain": [
              "<Figure size 432x288 with 1 Axes>"
            ]
          },
          "metadata": {
            "tags": [],
            "needs_background": "light"
          }
        }
      ]
    },
    {
      "cell_type": "code",
      "metadata": {
        "colab": {
          "base_uri": "https://localhost:8080/",
          "height": 295
        },
        "id": "tl1sxVEiAuXy",
        "outputId": "be689a16-fb89-4f6d-e4f1-684de80f9889"
      },
      "source": [
        "plt.plot(history.history[\"accuracy\"])\r\n",
        "plt.plot(history.history[\"val_accuracy\"])\r\n",
        "plt.title(\"model accuracy\")\r\n",
        "plt.ylabel(\"accuracy\")\r\n",
        "plt.xlabel(\"epoch\")\r\n",
        "plt.legend([\"train\", \"test\"], loc=\"upper left\")\r\n",
        "plt.show()"
      ],
      "execution_count": null,
      "outputs": [
        {
          "output_type": "display_data",
          "data": {
            "image/png": "[encoded data removed]",
            "text/plain": [
              "<Figure size 432x288 with 1 Axes>"
            ]
          },
          "metadata": {
            "tags": [],
            "needs_background": "light"
          }
        }
      ]
    },
    {
      "cell_type": "markdown",
      "metadata": {
        "id": "MW8mL4uqBNnn"
      },
      "source": [
        "###Testing"
      ]
    },
    {
      "cell_type": "code",
      "metadata": {
        "colab": {
          "base_uri": "https://localhost:8080/"
        },
        "id": "QsW_mNlOBPfz",
        "outputId": "e35c1b12-904e-4b5d-9267-d05b680d6ca1"
      },
      "source": [
        "y_pred = model.predict(X_test)\r\n",
        "new_pred = np.zeros(y_pred.shape[0])\r\n",
        "for i in range(y_pred.shape[0]):\r\n",
        "  new_pred[i] = np.argmax(y_pred[i])\r\n",
        "print(\"Testing Accuracy: \", sklearn.metrics.accuracy_score(y_true=y_test, y_pred=new_pred))"
      ],
      "execution_count": null,
      "outputs": [
        {
          "output_type": "stream",
          "text": [
            "Testing Accuracy:  0.873062015503876\n"
          ],
          "name": "stdout"
        }
      ]
    }
  ]
}